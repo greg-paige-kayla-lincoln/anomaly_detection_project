{
 "cells": [
  {
   "cell_type": "code",
   "execution_count": 1,
   "id": "4dc177d6",
   "metadata": {},
   "outputs": [],
   "source": [
    "import pandas as pd\n",
    "import numpy as np\n",
    "import datetime as dt\n",
    "import matplotlib.pyplot as plt\n",
    "import seaborn as sns\n",
    "import os\n",
    "import re\n",
    "\n",
    "from env import get_db_url\n",
    "from acquire import get_db_log_data\n",
    "from wrangle import wrangle_df"
   ]
  },
  {
   "cell_type": "markdown",
   "id": "5924a4cf",
   "metadata": {},
   "source": [
    "# Acquire:"
   ]
  },
  {
   "cell_type": "markdown",
   "id": "a376cb13",
   "metadata": {},
   "source": [
    "I need to figure out why these are coming out differently after the join. \n",
    "- There's a difference of 52,887 records.\n",
    "    - It looks like the difference here is due to having 52,893 null values in logs.cohort_id.\n",
    "    - There are 6 cohorts in the cohorts_id table that do not have any server traffic, so perhaps they didn't exist.\n",
    "    - 52,887 that didn't have anything to tie them to the cohorts table. Probably cohort ids - come back and verify.\n",
    "- it appears that there there are some IDs and Cohort IDs that do not much."
   ]
  },
  {
   "cell_type": "code",
   "execution_count": 2,
   "id": "b537ff3c",
   "metadata": {},
   "outputs": [],
   "source": [
    "def wrangle_df(df):\n",
    "    \n",
    "    '''This function takes in a DataFrame of curriculum access logs, does some basic wrangling like \n",
    "    mapping program codes to program ID numbers, drops unneeded or duplicated columns, \n",
    "    and changes date columns to the datetime data type.'''\n",
    "    \n",
    "    #Updates program ID numbers to their respective program titles:\n",
    "    df.program_id = df.program_id.map({1.0:'full_stack_php', 2.0:'full_stack_java', 3.0:'data_science', 4.0:'front_end_programming'})\n",
    "    \n",
    "    ## Drops unneeded or duplicate columns:\n",
    "    df.drop(columns=['id','slack','deleted_at'],inplace = True)\n",
    "    \n",
    "    #Adding a date_time column for a test:\n",
    "    df['date_time'] = pd.to_datetime(df['date']+ ' ' + df['time'])\n",
    "    \n",
    "    #Creates a list of columns containing relevant date data for logs:\n",
    "    date_cols = ['date', 'start_date', 'end_date', 'created_at', 'updated_at']\n",
    "    \n",
    "    #Iterates through list of dates to change them to datetime data type:\n",
    "    for col in date_cols: \n",
    "        df[col] = pd.to_datetime(df[col])\n",
    "    return df     "
   ]
  },
  {
   "cell_type": "markdown",
   "id": "bd3041ca",
   "metadata": {},
   "source": [
    "## Importing from the database using SQL or Cached Data:"
   ]
  },
  {
   "cell_type": "code",
   "execution_count": 3,
   "id": "0a48c720",
   "metadata": {},
   "outputs": [],
   "source": [
    "df = get_db_log_data()"
   ]
  },
  {
   "cell_type": "code",
   "execution_count": 4,
   "id": "96533640",
   "metadata": {
    "scrolled": false
   },
   "outputs": [
    {
     "data": {
      "text/html": [
       "<div>\n",
       "<style scoped>\n",
       "    .dataframe tbody tr th:only-of-type {\n",
       "        vertical-align: middle;\n",
       "    }\n",
       "\n",
       "    .dataframe tbody tr th {\n",
       "        vertical-align: top;\n",
       "    }\n",
       "\n",
       "    .dataframe thead th {\n",
       "        text-align: right;\n",
       "    }\n",
       "</style>\n",
       "<table border=\"1\" class=\"dataframe\">\n",
       "  <thead>\n",
       "    <tr style=\"text-align: right;\">\n",
       "      <th></th>\n",
       "      <th>date</th>\n",
       "      <th>time</th>\n",
       "      <th>path</th>\n",
       "      <th>user_id</th>\n",
       "      <th>cohort_id</th>\n",
       "      <th>ip</th>\n",
       "      <th>id</th>\n",
       "      <th>name</th>\n",
       "      <th>slack</th>\n",
       "      <th>start_date</th>\n",
       "      <th>end_date</th>\n",
       "      <th>created_at</th>\n",
       "      <th>updated_at</th>\n",
       "      <th>deleted_at</th>\n",
       "      <th>program_id</th>\n",
       "    </tr>\n",
       "  </thead>\n",
       "  <tbody>\n",
       "    <tr>\n",
       "      <th>494147</th>\n",
       "      <td>2020-03-26</td>\n",
       "      <td>22:00:52</td>\n",
       "      <td>javascript-ii/map-filter-reduce</td>\n",
       "      <td>599</td>\n",
       "      <td>56.0</td>\n",
       "      <td>76.184.67.169</td>\n",
       "      <td>56.0</td>\n",
       "      <td>Apex</td>\n",
       "      <td>#apex</td>\n",
       "      <td>2020-02-24</td>\n",
       "      <td>2020-07-29</td>\n",
       "      <td>2020-02-24 15:39:33</td>\n",
       "      <td>2020-07-29 18:41:13</td>\n",
       "      <td>NaN</td>\n",
       "      <td>2.0</td>\n",
       "    </tr>\n",
       "  </tbody>\n",
       "</table>\n",
       "</div>"
      ],
      "text/plain": [
       "              date      time                             path  user_id  \\\n",
       "494147  2020-03-26  22:00:52  javascript-ii/map-filter-reduce      599   \n",
       "\n",
       "        cohort_id             ip    id  name  slack  start_date    end_date  \\\n",
       "494147       56.0  76.184.67.169  56.0  Apex  #apex  2020-02-24  2020-07-29   \n",
       "\n",
       "                 created_at           updated_at  deleted_at  program_id  \n",
       "494147  2020-02-24 15:39:33  2020-07-29 18:41:13         NaN         2.0  "
      ]
     },
     "execution_count": 4,
     "metadata": {},
     "output_type": "execute_result"
    }
   ],
   "source": [
    "df.sample()"
   ]
  },
  {
   "cell_type": "markdown",
   "id": "a615a8e2",
   "metadata": {},
   "source": [
    "# Wrangle:"
   ]
  },
  {
   "cell_type": "markdown",
   "id": "0fdb4e90",
   "metadata": {},
   "source": [
    "## To-Do:\n",
    "    - Figure out what created_at and updated_at columns are. "
   ]
  },
  {
   "cell_type": "code",
   "execution_count": 5,
   "id": "0f4695ea",
   "metadata": {},
   "outputs": [],
   "source": [
    "df = wrangle_df(df)"
   ]
  },
  {
   "cell_type": "code",
   "execution_count": 6,
   "id": "2c4d9284",
   "metadata": {},
   "outputs": [
    {
     "data": {
      "text/plain": [
       "847329"
      ]
     },
     "execution_count": 6,
     "metadata": {},
     "output_type": "execute_result"
    }
   ],
   "source": [
    "#TEMPORARILY Dropping Nulls for Question 5:\n",
    "df = df.dropna()\n",
    "df.shape[0]"
   ]
  },
  {
   "cell_type": "code",
   "execution_count": 7,
   "id": "6f3ca458",
   "metadata": {},
   "outputs": [],
   "source": [
    "#Defining the function that adds the program type column based on program_id:\n",
    "def program_type(df):\n",
    "    #Creating an empty column on the DataFrame:\n",
    "    df['program_type'] = pd.Series()\n",
    "    #Calling type 'web' if program_id is not data_science\n",
    "    if df.program_id != 'data_science':\n",
    "        df.program_type ='web'\n",
    "    #Creating type 'data' if program_id is data:\n",
    "    elif df.program_id == 'data_science':\n",
    "        df.program_type = 'data'\n",
    "    #Returning DataFrame with new program_type column:\n",
    "    return df"
   ]
  },
  {
   "cell_type": "code",
   "execution_count": 8,
   "id": "038d510b",
   "metadata": {},
   "outputs": [
    {
     "name": "stderr",
     "output_type": "stream",
     "text": [
      "/var/folders/dk/lzs3plw14ms00nxw2vwq68vc0000gn/T/ipykernel_61721/1368827443.py:4: DeprecationWarning: The default dtype for empty Series will be 'object' instead of 'float64' in a future version. Specify a dtype explicitly to silence this warning.\n",
      "  df['program_type'] = pd.Series()\n"
     ]
    }
   ],
   "source": [
    "#Updating DataFrame with program_type column:\n",
    "\n",
    "df = df.apply(program_type, 1)"
   ]
  },
  {
   "cell_type": "code",
   "execution_count": 9,
   "id": "eb06095d",
   "metadata": {
    "scrolled": true
   },
   "outputs": [
    {
     "data": {
      "text/plain": [
       "847329"
      ]
     },
     "execution_count": 9,
     "metadata": {},
     "output_type": "execute_result"
    }
   ],
   "source": [
    "df.shape[0]"
   ]
  },
  {
   "cell_type": "code",
   "execution_count": 10,
   "id": "2abbffee",
   "metadata": {
    "scrolled": true
   },
   "outputs": [
    {
     "data": {
      "text/html": [
       "<div>\n",
       "<style scoped>\n",
       "    .dataframe tbody tr th:only-of-type {\n",
       "        vertical-align: middle;\n",
       "    }\n",
       "\n",
       "    .dataframe tbody tr th {\n",
       "        vertical-align: top;\n",
       "    }\n",
       "\n",
       "    .dataframe thead th {\n",
       "        text-align: right;\n",
       "    }\n",
       "</style>\n",
       "<table border=\"1\" class=\"dataframe\">\n",
       "  <thead>\n",
       "    <tr style=\"text-align: right;\">\n",
       "      <th></th>\n",
       "      <th>date</th>\n",
       "      <th>time</th>\n",
       "      <th>path</th>\n",
       "      <th>user_id</th>\n",
       "      <th>cohort_id</th>\n",
       "      <th>ip</th>\n",
       "      <th>name</th>\n",
       "      <th>start_date</th>\n",
       "      <th>end_date</th>\n",
       "      <th>created_at</th>\n",
       "      <th>updated_at</th>\n",
       "      <th>program_id</th>\n",
       "      <th>date_time</th>\n",
       "      <th>program_type</th>\n",
       "    </tr>\n",
       "  </thead>\n",
       "  <tbody>\n",
       "  </tbody>\n",
       "</table>\n",
       "</div>"
      ],
      "text/plain": [
       "Empty DataFrame\n",
       "Columns: [date, time, path, user_id, cohort_id, ip, name, start_date, end_date, created_at, updated_at, program_id, date_time, program_type]\n",
       "Index: []"
      ]
     },
     "execution_count": 10,
     "metadata": {},
     "output_type": "execute_result"
    }
   ],
   "source": [
    "df[df.path.isnull()]"
   ]
  },
  {
   "cell_type": "markdown",
   "id": "e12cde7e",
   "metadata": {},
   "source": [
    "## May not need this cell below, as I'm only looking at 2019 data:"
   ]
  },
  {
   "cell_type": "code",
   "execution_count": 11,
   "id": "0af06843",
   "metadata": {},
   "outputs": [],
   "source": [
    "#Dropping row where the path is null:\n",
    "#df = df.drop(df.index[506305])"
   ]
  },
  {
   "cell_type": "markdown",
   "id": "c5048bc7",
   "metadata": {},
   "source": [
    "# Questions:"
   ]
  },
  {
   "cell_type": "markdown",
   "id": "b373b71a",
   "metadata": {},
   "source": [
    "## 5. At some point in 2019, the ability for students and alumni to access both curriculums (web dev to ds, ds to web dev) should have been shut off. Do you see any evidence of that happening? Did it happen before?"
   ]
  },
  {
   "cell_type": "markdown",
   "id": "0af7d366",
   "metadata": {},
   "source": [
    "### Finding logs of student access for the year of 2019:"
   ]
  },
  {
   "cell_type": "code",
   "execution_count": 12,
   "id": "c6042aac",
   "metadata": {},
   "outputs": [],
   "source": [
    "#Setting earliest date to 12/31/18:\n",
    "first_date = dt.datetime(2018, 12, 31)\n",
    "#Setting latest date to 1/1/20:\n",
    "second_date = dt.datetime(2020, 1, 1)\n",
    "\n",
    "#Creating a DataFrame containing only records within above rage:\n",
    "log_2019 = df[(df.date > first_date) & (df.date < second_date)]"
   ]
  },
  {
   "cell_type": "code",
   "execution_count": 13,
   "id": "82b67c38",
   "metadata": {
    "scrolled": false
   },
   "outputs": [
    {
     "data": {
      "image/png": "[encoded data removed]",
      "text/plain": [
       "<Figure size 432x288 with 1 Axes>"
      ]
     },
     "metadata": {
      "needs_background": "light"
     },
     "output_type": "display_data"
    }
   ],
   "source": [
    "sns.histplot(data = log_2019, x = log_2019.date).set(title = \"Total Curriculum Access Across 2019\")\n",
    "sns.set(rc = {'figure.figsize':(16,9)});"
   ]
  },
  {
   "cell_type": "code",
   "execution_count": 14,
   "id": "ef6da5ae",
   "metadata": {},
   "outputs": [
    {
     "data": {
      "text/plain": [
       "82886"
      ]
     },
     "execution_count": 14,
     "metadata": {},
     "output_type": "execute_result"
    }
   ],
   "source": [
    "#Searching for 'java' in path name to identify some web dev courses, saving to web_courses df:\n",
    "web_courses = log_2019[log_2019.path.str.contains('java', regex=False)]\n",
    "web_courses.shape[0]"
   ]
  },
  {
   "cell_type": "code",
   "execution_count": 15,
   "id": "b1102e52",
   "metadata": {},
   "outputs": [
    {
     "data": {
      "text/plain": [
       "82854"
      ]
     },
     "execution_count": 15,
     "metadata": {},
     "output_type": "execute_result"
    }
   ],
   "source": [
    "#Checking to see how many web students accessed these courses:\n",
    "wd_in_wd = web_courses[web_courses.program_type == 'web']\n",
    "wd_in_wd.shape[0]"
   ]
  },
  {
   "cell_type": "code",
   "execution_count": 16,
   "id": "3461718d",
   "metadata": {
    "scrolled": false
   },
   "outputs": [
    {
     "data": {
      "text/plain": [
       "32"
      ]
     },
     "execution_count": 16,
     "metadata": {},
     "output_type": "execute_result"
    }
   ],
   "source": [
    "#Creating a dataframe showing data students accessing web dev content:\n",
    "ds_in_wd = web_courses[web_courses.program_type == 'data']\n",
    "ds_in_wd.shape[0]\n",
    "#This seems to show that data students accessed web material as late as 12/14, which seems odd."
   ]
  },
  {
   "cell_type": "code",
   "execution_count": 17,
   "id": "65bdaf0d",
   "metadata": {},
   "outputs": [
    {
     "data": {
      "image/png": "[encoded data removed]",
      "text/plain": [
       "<Figure size 1152x648 with 1 Axes>"
      ]
     },
     "metadata": {},
     "output_type": "display_data"
    }
   ],
   "source": [
    "#This plot shows the data student access to web dev courses:\n",
    "sns.histplot(data = ds_in_wd, x = 'date', bins = 20)\n",
    "sns.set(rc = {'figure.figsize':(16,9)});"
   ]
  },
  {
   "cell_type": "code",
   "execution_count": 18,
   "id": "caa59c33",
   "metadata": {},
   "outputs": [
    {
     "data": {
      "text/plain": [
       "array([476, 467, 472])"
      ]
     },
     "execution_count": 18,
     "metadata": {},
     "output_type": "execute_result"
    }
   ],
   "source": [
    "#Identifying which data students accessed the web dev content:\n",
    "ds_in_wd.user_id.unique()\n",
    "\n",
    "#It looks like users 476, 467, and 472 accessed java content."
   ]
  },
  {
   "cell_type": "markdown",
   "id": "8eae7de4",
   "metadata": {},
   "source": [
    "## Looking into users 476, 467, and 472:"
   ]
  },
  {
   "cell_type": "code",
   "execution_count": 19,
   "id": "6e7125ba",
   "metadata": {
    "scrolled": true
   },
   "outputs": [
    {
     "data": {
      "text/html": [
       "<div>\n",
       "<style scoped>\n",
       "    .dataframe tbody tr th:only-of-type {\n",
       "        vertical-align: middle;\n",
       "    }\n",
       "\n",
       "    .dataframe tbody tr th {\n",
       "        vertical-align: top;\n",
       "    }\n",
       "\n",
       "    .dataframe thead th {\n",
       "        text-align: right;\n",
       "    }\n",
       "</style>\n",
       "<table border=\"1\" class=\"dataframe\">\n",
       "  <thead>\n",
       "    <tr style=\"text-align: right;\">\n",
       "      <th></th>\n",
       "      <th>date</th>\n",
       "      <th>time</th>\n",
       "      <th>path</th>\n",
       "      <th>user_id</th>\n",
       "      <th>cohort_id</th>\n",
       "      <th>ip</th>\n",
       "      <th>name</th>\n",
       "      <th>start_date</th>\n",
       "      <th>end_date</th>\n",
       "      <th>created_at</th>\n",
       "      <th>updated_at</th>\n",
       "      <th>program_id</th>\n",
       "      <th>date_time</th>\n",
       "      <th>program_type</th>\n",
       "    </tr>\n",
       "  </thead>\n",
       "  <tbody>\n",
       "    <tr>\n",
       "      <th>326063</th>\n",
       "      <td>2019-08-20</td>\n",
       "      <td>09:40:23</td>\n",
       "      <td>/</td>\n",
       "      <td>476</td>\n",
       "      <td>34.0</td>\n",
       "      <td>97.105.19.58</td>\n",
       "      <td>Bayes</td>\n",
       "      <td>2019-08-19</td>\n",
       "      <td>2020-01-30</td>\n",
       "      <td>2019-08-20 14:38:55</td>\n",
       "      <td>2019-08-20 14:38:55</td>\n",
       "      <td>data_science</td>\n",
       "      <td>2019-08-20 09:40:23</td>\n",
       "      <td>data</td>\n",
       "    </tr>\n",
       "    <tr>\n",
       "      <th>326165</th>\n",
       "      <td>2019-08-20</td>\n",
       "      <td>10:04:25</td>\n",
       "      <td>/</td>\n",
       "      <td>476</td>\n",
       "      <td>34.0</td>\n",
       "      <td>97.105.19.58</td>\n",
       "      <td>Bayes</td>\n",
       "      <td>2019-08-19</td>\n",
       "      <td>2020-01-30</td>\n",
       "      <td>2019-08-20 14:38:55</td>\n",
       "      <td>2019-08-20 14:38:55</td>\n",
       "      <td>data_science</td>\n",
       "      <td>2019-08-20 10:04:25</td>\n",
       "      <td>data</td>\n",
       "    </tr>\n",
       "    <tr>\n",
       "      <th>326168</th>\n",
       "      <td>2019-08-20</td>\n",
       "      <td>10:07:20</td>\n",
       "      <td>/</td>\n",
       "      <td>476</td>\n",
       "      <td>34.0</td>\n",
       "      <td>97.105.19.58</td>\n",
       "      <td>Bayes</td>\n",
       "      <td>2019-08-19</td>\n",
       "      <td>2020-01-30</td>\n",
       "      <td>2019-08-20 14:38:55</td>\n",
       "      <td>2019-08-20 14:38:55</td>\n",
       "      <td>data_science</td>\n",
       "      <td>2019-08-20 10:07:20</td>\n",
       "      <td>data</td>\n",
       "    </tr>\n",
       "    <tr>\n",
       "      <th>326293</th>\n",
       "      <td>2019-08-20</td>\n",
       "      <td>10:49:50</td>\n",
       "      <td>1-fundamentals/1.1-intro-to-data-science</td>\n",
       "      <td>476</td>\n",
       "      <td>34.0</td>\n",
       "      <td>97.105.19.58</td>\n",
       "      <td>Bayes</td>\n",
       "      <td>2019-08-19</td>\n",
       "      <td>2020-01-30</td>\n",
       "      <td>2019-08-20 14:38:55</td>\n",
       "      <td>2019-08-20 14:38:55</td>\n",
       "      <td>data_science</td>\n",
       "      <td>2019-08-20 10:49:50</td>\n",
       "      <td>data</td>\n",
       "    </tr>\n",
       "    <tr>\n",
       "      <th>326294</th>\n",
       "      <td>2019-08-20</td>\n",
       "      <td>10:49:50</td>\n",
       "      <td>1-fundamentals/modern-data-scientist.jpg</td>\n",
       "      <td>476</td>\n",
       "      <td>34.0</td>\n",
       "      <td>97.105.19.58</td>\n",
       "      <td>Bayes</td>\n",
       "      <td>2019-08-19</td>\n",
       "      <td>2020-01-30</td>\n",
       "      <td>2019-08-20 14:38:55</td>\n",
       "      <td>2019-08-20 14:38:55</td>\n",
       "      <td>data_science</td>\n",
       "      <td>2019-08-20 10:49:50</td>\n",
       "      <td>data</td>\n",
       "    </tr>\n",
       "  </tbody>\n",
       "</table>\n",
       "</div>"
      ],
      "text/plain": [
       "             date      time                                      path  \\\n",
       "326063 2019-08-20  09:40:23                                         /   \n",
       "326165 2019-08-20  10:04:25                                         /   \n",
       "326168 2019-08-20  10:07:20                                         /   \n",
       "326293 2019-08-20  10:49:50  1-fundamentals/1.1-intro-to-data-science   \n",
       "326294 2019-08-20  10:49:50  1-fundamentals/modern-data-scientist.jpg   \n",
       "\n",
       "        user_id  cohort_id            ip   name start_date   end_date  \\\n",
       "326063      476       34.0  97.105.19.58  Bayes 2019-08-19 2020-01-30   \n",
       "326165      476       34.0  97.105.19.58  Bayes 2019-08-19 2020-01-30   \n",
       "326168      476       34.0  97.105.19.58  Bayes 2019-08-19 2020-01-30   \n",
       "326293      476       34.0  97.105.19.58  Bayes 2019-08-19 2020-01-30   \n",
       "326294      476       34.0  97.105.19.58  Bayes 2019-08-19 2020-01-30   \n",
       "\n",
       "                created_at          updated_at    program_id  \\\n",
       "326063 2019-08-20 14:38:55 2019-08-20 14:38:55  data_science   \n",
       "326165 2019-08-20 14:38:55 2019-08-20 14:38:55  data_science   \n",
       "326168 2019-08-20 14:38:55 2019-08-20 14:38:55  data_science   \n",
       "326293 2019-08-20 14:38:55 2019-08-20 14:38:55  data_science   \n",
       "326294 2019-08-20 14:38:55 2019-08-20 14:38:55  data_science   \n",
       "\n",
       "                 date_time program_type  \n",
       "326063 2019-08-20 09:40:23         data  \n",
       "326165 2019-08-20 10:04:25         data  \n",
       "326168 2019-08-20 10:07:20         data  \n",
       "326293 2019-08-20 10:49:50         data  \n",
       "326294 2019-08-20 10:49:50         data  "
      ]
     },
     "execution_count": 19,
     "metadata": {},
     "output_type": "execute_result"
    }
   ],
   "source": [
    "df[df.user_id == 476].head()"
   ]
  },
  {
   "cell_type": "code",
   "execution_count": 20,
   "id": "9a32ecbb",
   "metadata": {},
   "outputs": [
    {
     "data": {
      "text/plain": [
       "array(['Hampton', 'Teddy', 'Sequoia', 'Arches', 'Niagara', 'Pinnacles',\n",
       "       'Quincy', 'Kings', 'Lassen', 'Mammoth', 'Glacier', 'Denali',\n",
       "       'Joshua', 'Olympic', 'Ulysses', 'Badlands', 'Apollo', 'Ike',\n",
       "       'Voyageurs', 'Wrangell', 'Xanadu', 'Franklin', 'Yosemite', 'Staff',\n",
       "       'Zion', 'Andromeda', 'Betelgeuse', 'Ceres', 'Bayes', 'Deimos',\n",
       "       'Europa', 'Fortuna', 'Curie', 'Apex', 'Ganymede', 'Everglades',\n",
       "       'Hyperion', 'Darden', 'Bash', 'Jupiter', 'Kalypso', 'Luna',\n",
       "       'Easley', 'Marco', 'Neptune', 'Florence', 'Oberon'], dtype=object)"
      ]
     },
     "execution_count": 20,
     "metadata": {},
     "output_type": "execute_result"
    }
   ],
   "source": [
    "df.name.unique()"
   ]
  },
  {
   "cell_type": "code",
   "execution_count": 21,
   "id": "2743b18d",
   "metadata": {},
   "outputs": [],
   "source": [
    "#Creating a dataframe containing all rolls that are missing a cohort name:\n",
    "name_nulls_df = df[~df.name.isin(['Hampton', 'Teddy', 'Sequoia', 'Arches', 'Niagara', 'Pinnacles',\n",
    "       'Quincy','Kings', 'Lassen', 'Mammoth', 'Glacier', 'Denali',\n",
    "       'Joshua', 'Olympic', 'Ulysses', 'Badlands', 'Apollo', 'Ike',\n",
    "       'Voyageurs', 'Wrangell', 'Xanadu', 'Franklin', 'Yosemite', 'Staff',\n",
    "       'Zion', 'Andromeda', 'Betelgeuse', 'Ceres', 'Bayes', 'Deimos',\n",
    "       'Europa', 'Fortuna', 'Curie', 'Apex', 'Ganymede', 'Everglades',\n",
    "       'Hyperion', 'Darden', 'Bash', 'Jupiter', 'Kalypso', 'Luna',\n",
    "       'Easley', 'Marco', 'Neptune', 'Florence', 'Oberon'])]"
   ]
  },
  {
   "cell_type": "code",
   "execution_count": 22,
   "id": "95172f42",
   "metadata": {
    "scrolled": false
   },
   "outputs": [
    {
     "data": {
      "text/plain": [
       "Series([], Name: path, dtype: int64)"
      ]
     },
     "execution_count": 22,
     "metadata": {},
     "output_type": "execute_result"
    }
   ],
   "source": [
    "name_nulls_df.path.value_counts().head(10)"
   ]
  },
  {
   "cell_type": "code",
   "execution_count": 23,
   "id": "3dc8f0f5",
   "metadata": {},
   "outputs": [],
   "source": [
    "first_date = dt.datetime(2019, 1, 31)"
   ]
  },
  {
   "cell_type": "code",
   "execution_count": 24,
   "id": "7eaa7804",
   "metadata": {
    "scrolled": true
   },
   "outputs": [
    {
     "data": {
      "text/html": [
       "<div>\n",
       "<style scoped>\n",
       "    .dataframe tbody tr th:only-of-type {\n",
       "        vertical-align: middle;\n",
       "    }\n",
       "\n",
       "    .dataframe tbody tr th {\n",
       "        vertical-align: top;\n",
       "    }\n",
       "\n",
       "    .dataframe thead th {\n",
       "        text-align: right;\n",
       "    }\n",
       "</style>\n",
       "<table border=\"1\" class=\"dataframe\">\n",
       "  <thead>\n",
       "    <tr style=\"text-align: right;\">\n",
       "      <th></th>\n",
       "      <th>date</th>\n",
       "      <th>time</th>\n",
       "      <th>path</th>\n",
       "      <th>user_id</th>\n",
       "      <th>cohort_id</th>\n",
       "      <th>ip</th>\n",
       "      <th>name</th>\n",
       "      <th>start_date</th>\n",
       "      <th>end_date</th>\n",
       "      <th>created_at</th>\n",
       "      <th>updated_at</th>\n",
       "      <th>program_id</th>\n",
       "      <th>date_time</th>\n",
       "      <th>program_type</th>\n",
       "    </tr>\n",
       "  </thead>\n",
       "  <tbody>\n",
       "  </tbody>\n",
       "</table>\n",
       "</div>"
      ],
      "text/plain": [
       "Empty DataFrame\n",
       "Columns: [date, time, path, user_id, cohort_id, ip, name, start_date, end_date, created_at, updated_at, program_id, date_time, program_type]\n",
       "Index: []"
      ]
     },
     "execution_count": 24,
     "metadata": {},
     "output_type": "execute_result"
    }
   ],
   "source": [
    "#Using regex to include more web_dev-related keywords in search:\n",
    "web_courses2 = name_nulls_df[name_nulls_df.path.str.contains('html|css|java|spring', regex=True, flags=re.IGNORECASE)] \n",
    "web_courses2[(web_courses2.date > first_date) & (web_courses2.date < second_date)]"
   ]
  },
  {
   "cell_type": "code",
   "execution_count": 25,
   "id": "f3e11dab",
   "metadata": {},
   "outputs": [],
   "source": [
    "#Creating a dataframe containing all rows that are missing a cohort name:\n",
    "name_nulls_df = df[~df.name.isin(['Hampton', 'Teddy', 'Sequoia', 'Arches', 'Niagara', 'Pinnacles',\n",
    "       'Quincy','Kings', 'Lassen', 'Mammoth', 'Glacier', 'Denali',\n",
    "       'Joshua', 'Olympic', 'Ulysses', 'Badlands', 'Apollo', 'Ike',\n",
    "       'Voyageurs', 'Wrangell', 'Xanadu', 'Franklin', 'Yosemite', 'Staff',\n",
    "       'Zion', 'Andromeda', 'Betelgeuse', 'Ceres', 'Bayes', 'Deimos',\n",
    "       'Europa', 'Fortuna', 'Curie', 'Apex', 'Ganymede', 'Everglades',\n",
    "       'Hyperion', 'Darden', 'Bash', 'Jupiter', 'Kalypso', 'Luna',\n",
    "       'Easley', 'Marco', 'Neptune', 'Florence', 'Oberon'])]"
   ]
  },
  {
   "cell_type": "code",
   "execution_count": 26,
   "id": "9e5925d5",
   "metadata": {
    "scrolled": false
   },
   "outputs": [
    {
     "data": {
      "text/plain": [
       "array([], dtype=object)"
      ]
     },
     "execution_count": 26,
     "metadata": {},
     "output_type": "execute_result"
    }
   ],
   "source": [
    "#Looking at the topcics accessed by users missing a cohort name:\n",
    "name_nulls_df[(name_nulls_df.date > first_date) & (web_courses2.date < second_date)].path.unique()"
   ]
  },
  {
   "cell_type": "code",
   "execution_count": 27,
   "id": "a2379899",
   "metadata": {},
   "outputs": [],
   "source": [
    "#Defining start and end dates that correspond to Ada's:\n",
    "start_date = dt.datetime(2019, 2, 14)\n",
    "end_date = dt.datetime(2019, 6, 16)"
   ]
  },
  {
   "cell_type": "code",
   "execution_count": 28,
   "id": "d41c2161",
   "metadata": {},
   "outputs": [
    {
     "data": {
      "text/html": [
       "<div>\n",
       "<style scoped>\n",
       "    .dataframe tbody tr th:only-of-type {\n",
       "        vertical-align: middle;\n",
       "    }\n",
       "\n",
       "    .dataframe tbody tr th {\n",
       "        vertical-align: top;\n",
       "    }\n",
       "\n",
       "    .dataframe thead th {\n",
       "        text-align: right;\n",
       "    }\n",
       "</style>\n",
       "<table border=\"1\" class=\"dataframe\">\n",
       "  <thead>\n",
       "    <tr style=\"text-align: right;\">\n",
       "      <th></th>\n",
       "      <th>date</th>\n",
       "      <th>time</th>\n",
       "      <th>path</th>\n",
       "      <th>user_id</th>\n",
       "      <th>cohort_id</th>\n",
       "      <th>ip</th>\n",
       "      <th>name</th>\n",
       "      <th>start_date</th>\n",
       "      <th>end_date</th>\n",
       "      <th>created_at</th>\n",
       "      <th>updated_at</th>\n",
       "      <th>program_id</th>\n",
       "      <th>date_time</th>\n",
       "      <th>program_type</th>\n",
       "    </tr>\n",
       "  </thead>\n",
       "  <tbody>\n",
       "    <tr>\n",
       "      <th>199368</th>\n",
       "      <td>2019-02-15</td>\n",
       "      <td>06:01:49</td>\n",
       "      <td>javascript-i/arrays/manipulating</td>\n",
       "      <td>343</td>\n",
       "      <td>29.0</td>\n",
       "      <td>72.181.110.80</td>\n",
       "      <td>Zion</td>\n",
       "      <td>2019-01-22</td>\n",
       "      <td>2019-06-04</td>\n",
       "      <td>2019-01-20 23:18:57</td>\n",
       "      <td>2019-01-20 23:18:57</td>\n",
       "      <td>full_stack_java</td>\n",
       "      <td>2019-02-15 06:01:49</td>\n",
       "      <td>web</td>\n",
       "    </tr>\n",
       "    <tr>\n",
       "      <th>199369</th>\n",
       "      <td>2019-02-15</td>\n",
       "      <td>06:02:02</td>\n",
       "      <td>javascript-i/objects</td>\n",
       "      <td>343</td>\n",
       "      <td>29.0</td>\n",
       "      <td>72.181.110.80</td>\n",
       "      <td>Zion</td>\n",
       "      <td>2019-01-22</td>\n",
       "      <td>2019-06-04</td>\n",
       "      <td>2019-01-20 23:18:57</td>\n",
       "      <td>2019-01-20 23:18:57</td>\n",
       "      <td>full_stack_java</td>\n",
       "      <td>2019-02-15 06:02:02</td>\n",
       "      <td>web</td>\n",
       "    </tr>\n",
       "    <tr>\n",
       "      <th>199370</th>\n",
       "      <td>2019-02-15</td>\n",
       "      <td>06:02:27</td>\n",
       "      <td>javascript-i/arrays/manipulating</td>\n",
       "      <td>343</td>\n",
       "      <td>29.0</td>\n",
       "      <td>72.181.110.80</td>\n",
       "      <td>Zion</td>\n",
       "      <td>2019-01-22</td>\n",
       "      <td>2019-06-04</td>\n",
       "      <td>2019-01-20 23:18:57</td>\n",
       "      <td>2019-01-20 23:18:57</td>\n",
       "      <td>full_stack_java</td>\n",
       "      <td>2019-02-15 06:02:27</td>\n",
       "      <td>web</td>\n",
       "    </tr>\n",
       "    <tr>\n",
       "      <th>199371</th>\n",
       "      <td>2019-02-15</td>\n",
       "      <td>06:02:31</td>\n",
       "      <td>javascript-i/arrays</td>\n",
       "      <td>343</td>\n",
       "      <td>29.0</td>\n",
       "      <td>72.181.110.80</td>\n",
       "      <td>Zion</td>\n",
       "      <td>2019-01-22</td>\n",
       "      <td>2019-06-04</td>\n",
       "      <td>2019-01-20 23:18:57</td>\n",
       "      <td>2019-01-20 23:18:57</td>\n",
       "      <td>full_stack_java</td>\n",
       "      <td>2019-02-15 06:02:31</td>\n",
       "      <td>web</td>\n",
       "    </tr>\n",
       "    <tr>\n",
       "      <th>199372</th>\n",
       "      <td>2019-02-15</td>\n",
       "      <td>06:07:57</td>\n",
       "      <td>javascript-i/arrays/manipulating</td>\n",
       "      <td>343</td>\n",
       "      <td>29.0</td>\n",
       "      <td>72.181.110.80</td>\n",
       "      <td>Zion</td>\n",
       "      <td>2019-01-22</td>\n",
       "      <td>2019-06-04</td>\n",
       "      <td>2019-01-20 23:18:57</td>\n",
       "      <td>2019-01-20 23:18:57</td>\n",
       "      <td>full_stack_java</td>\n",
       "      <td>2019-02-15 06:07:57</td>\n",
       "      <td>web</td>\n",
       "    </tr>\n",
       "    <tr>\n",
       "      <th>...</th>\n",
       "      <td>...</td>\n",
       "      <td>...</td>\n",
       "      <td>...</td>\n",
       "      <td>...</td>\n",
       "      <td>...</td>\n",
       "      <td>...</td>\n",
       "      <td>...</td>\n",
       "      <td>...</td>\n",
       "      <td>...</td>\n",
       "      <td>...</td>\n",
       "      <td>...</td>\n",
       "      <td>...</td>\n",
       "      <td>...</td>\n",
       "      <td>...</td>\n",
       "    </tr>\n",
       "    <tr>\n",
       "      <th>283857</th>\n",
       "      <td>2019-06-15</td>\n",
       "      <td>21:16:41</td>\n",
       "      <td>java-iii/deployment-and-dependencies</td>\n",
       "      <td>376</td>\n",
       "      <td>31.0</td>\n",
       "      <td>71.42.211.139</td>\n",
       "      <td>Andromeda</td>\n",
       "      <td>2019-03-18</td>\n",
       "      <td>2019-07-30</td>\n",
       "      <td>2019-03-18 20:35:06</td>\n",
       "      <td>2019-03-18 20:35:06</td>\n",
       "      <td>full_stack_java</td>\n",
       "      <td>2019-06-15 21:16:41</td>\n",
       "      <td>web</td>\n",
       "    </tr>\n",
       "    <tr>\n",
       "      <th>283858</th>\n",
       "      <td>2019-06-15</td>\n",
       "      <td>21:16:43</td>\n",
       "      <td>java-iii/servlets</td>\n",
       "      <td>376</td>\n",
       "      <td>31.0</td>\n",
       "      <td>71.42.211.139</td>\n",
       "      <td>Andromeda</td>\n",
       "      <td>2019-03-18</td>\n",
       "      <td>2019-07-30</td>\n",
       "      <td>2019-03-18 20:35:06</td>\n",
       "      <td>2019-03-18 20:35:06</td>\n",
       "      <td>full_stack_java</td>\n",
       "      <td>2019-06-15 21:16:43</td>\n",
       "      <td>web</td>\n",
       "    </tr>\n",
       "    <tr>\n",
       "      <th>283859</th>\n",
       "      <td>2019-06-15</td>\n",
       "      <td>21:35:13</td>\n",
       "      <td>javascript-i/testing-user-functions</td>\n",
       "      <td>315</td>\n",
       "      <td>26.0</td>\n",
       "      <td>24.26.232.177</td>\n",
       "      <td>Xanadu</td>\n",
       "      <td>2018-09-17</td>\n",
       "      <td>2019-02-08</td>\n",
       "      <td>2018-09-17 19:09:51</td>\n",
       "      <td>2018-09-17 19:09:51</td>\n",
       "      <td>full_stack_java</td>\n",
       "      <td>2019-06-15 21:35:13</td>\n",
       "      <td>web</td>\n",
       "    </tr>\n",
       "    <tr>\n",
       "      <th>283860</th>\n",
       "      <td>2019-06-15</td>\n",
       "      <td>23:50:25</td>\n",
       "      <td>java-iii/jdbc</td>\n",
       "      <td>376</td>\n",
       "      <td>31.0</td>\n",
       "      <td>192.171.117.210</td>\n",
       "      <td>Andromeda</td>\n",
       "      <td>2019-03-18</td>\n",
       "      <td>2019-07-30</td>\n",
       "      <td>2019-03-18 20:35:06</td>\n",
       "      <td>2019-03-18 20:35:06</td>\n",
       "      <td>full_stack_java</td>\n",
       "      <td>2019-06-15 23:50:25</td>\n",
       "      <td>web</td>\n",
       "    </tr>\n",
       "    <tr>\n",
       "      <th>283861</th>\n",
       "      <td>2019-06-15</td>\n",
       "      <td>23:50:27</td>\n",
       "      <td>java-iii/jsp-and-jstl</td>\n",
       "      <td>376</td>\n",
       "      <td>31.0</td>\n",
       "      <td>192.171.117.210</td>\n",
       "      <td>Andromeda</td>\n",
       "      <td>2019-03-18</td>\n",
       "      <td>2019-07-30</td>\n",
       "      <td>2019-03-18 20:35:06</td>\n",
       "      <td>2019-03-18 20:35:06</td>\n",
       "      <td>full_stack_java</td>\n",
       "      <td>2019-06-15 23:50:27</td>\n",
       "      <td>web</td>\n",
       "    </tr>\n",
       "  </tbody>\n",
       "</table>\n",
       "<p>65838 rows × 14 columns</p>\n",
       "</div>"
      ],
      "text/plain": [
       "             date      time                                  path  user_id  \\\n",
       "199368 2019-02-15  06:01:49      javascript-i/arrays/manipulating      343   \n",
       "199369 2019-02-15  06:02:02                  javascript-i/objects      343   \n",
       "199370 2019-02-15  06:02:27      javascript-i/arrays/manipulating      343   \n",
       "199371 2019-02-15  06:02:31                   javascript-i/arrays      343   \n",
       "199372 2019-02-15  06:07:57      javascript-i/arrays/manipulating      343   \n",
       "...           ...       ...                                   ...      ...   \n",
       "283857 2019-06-15  21:16:41  java-iii/deployment-and-dependencies      376   \n",
       "283858 2019-06-15  21:16:43                     java-iii/servlets      376   \n",
       "283859 2019-06-15  21:35:13   javascript-i/testing-user-functions      315   \n",
       "283860 2019-06-15  23:50:25                         java-iii/jdbc      376   \n",
       "283861 2019-06-15  23:50:27                 java-iii/jsp-and-jstl      376   \n",
       "\n",
       "        cohort_id               ip       name start_date   end_date  \\\n",
       "199368       29.0    72.181.110.80       Zion 2019-01-22 2019-06-04   \n",
       "199369       29.0    72.181.110.80       Zion 2019-01-22 2019-06-04   \n",
       "199370       29.0    72.181.110.80       Zion 2019-01-22 2019-06-04   \n",
       "199371       29.0    72.181.110.80       Zion 2019-01-22 2019-06-04   \n",
       "199372       29.0    72.181.110.80       Zion 2019-01-22 2019-06-04   \n",
       "...           ...              ...        ...        ...        ...   \n",
       "283857       31.0    71.42.211.139  Andromeda 2019-03-18 2019-07-30   \n",
       "283858       31.0    71.42.211.139  Andromeda 2019-03-18 2019-07-30   \n",
       "283859       26.0    24.26.232.177     Xanadu 2018-09-17 2019-02-08   \n",
       "283860       31.0  192.171.117.210  Andromeda 2019-03-18 2019-07-30   \n",
       "283861       31.0  192.171.117.210  Andromeda 2019-03-18 2019-07-30   \n",
       "\n",
       "                created_at          updated_at       program_id  \\\n",
       "199368 2019-01-20 23:18:57 2019-01-20 23:18:57  full_stack_java   \n",
       "199369 2019-01-20 23:18:57 2019-01-20 23:18:57  full_stack_java   \n",
       "199370 2019-01-20 23:18:57 2019-01-20 23:18:57  full_stack_java   \n",
       "199371 2019-01-20 23:18:57 2019-01-20 23:18:57  full_stack_java   \n",
       "199372 2019-01-20 23:18:57 2019-01-20 23:18:57  full_stack_java   \n",
       "...                    ...                 ...              ...   \n",
       "283857 2019-03-18 20:35:06 2019-03-18 20:35:06  full_stack_java   \n",
       "283858 2019-03-18 20:35:06 2019-03-18 20:35:06  full_stack_java   \n",
       "283859 2018-09-17 19:09:51 2018-09-17 19:09:51  full_stack_java   \n",
       "283860 2019-03-18 20:35:06 2019-03-18 20:35:06  full_stack_java   \n",
       "283861 2019-03-18 20:35:06 2019-03-18 20:35:06  full_stack_java   \n",
       "\n",
       "                 date_time program_type  \n",
       "199368 2019-02-15 06:01:49          web  \n",
       "199369 2019-02-15 06:02:02          web  \n",
       "199370 2019-02-15 06:02:27          web  \n",
       "199371 2019-02-15 06:02:31          web  \n",
       "199372 2019-02-15 06:07:57          web  \n",
       "...                    ...          ...  \n",
       "283857 2019-06-15 21:16:41          web  \n",
       "283858 2019-06-15 21:16:43          web  \n",
       "283859 2019-06-15 21:35:13          web  \n",
       "283860 2019-06-15 23:50:25          web  \n",
       "283861 2019-06-15 23:50:27          web  \n",
       "\n",
       "[65838 rows x 14 columns]"
      ]
     },
     "execution_count": 28,
     "metadata": {},
     "output_type": "execute_result"
    }
   ],
   "source": [
    "#Checking to see which logged items fell within the range of Ada's active days:\n",
    "df[(df.date > start_date) & (df.date < end_date)]"
   ]
  },
  {
   "cell_type": "code",
   "execution_count": 29,
   "id": "2f1b0a60",
   "metadata": {},
   "outputs": [
    {
     "data": {
      "text/plain": [
       "Series([], Name: path, dtype: int64)"
      ]
     },
     "execution_count": 29,
     "metadata": {},
     "output_type": "execute_result"
    }
   ],
   "source": [
    "#Seeing which items were most often visited by user 368:\n",
    "df[df.user_id == 368].path.value_counts().head(15)"
   ]
  },
  {
   "cell_type": "code",
   "execution_count": 30,
   "id": "a3761a8d",
   "metadata": {
    "scrolled": true
   },
   "outputs": [
    {
     "data": {
      "text/plain": [
       "Series([], Name: path, dtype: int64)"
      ]
     },
     "execution_count": 30,
     "metadata": {},
     "output_type": "execute_result"
    }
   ],
   "source": [
    "#Using this list to keep note of some key DS keywords to search for:\n",
    "df[df.user_id == 368].path.value_counts()"
   ]
  },
  {
   "cell_type": "markdown",
   "id": "88cc23d0",
   "metadata": {},
   "source": [
    "### Trying from the other direction - web dev accessing ds material:"
   ]
  },
  {
   "cell_type": "code",
   "execution_count": 31,
   "id": "6900715c",
   "metadata": {},
   "outputs": [
    {
     "data": {
      "text/html": [
       "<div>\n",
       "<style scoped>\n",
       "    .dataframe tbody tr th:only-of-type {\n",
       "        vertical-align: middle;\n",
       "    }\n",
       "\n",
       "    .dataframe tbody tr th {\n",
       "        vertical-align: top;\n",
       "    }\n",
       "\n",
       "    .dataframe thead th {\n",
       "        text-align: right;\n",
       "    }\n",
       "</style>\n",
       "<table border=\"1\" class=\"dataframe\">\n",
       "  <thead>\n",
       "    <tr style=\"text-align: right;\">\n",
       "      <th></th>\n",
       "      <th>date</th>\n",
       "      <th>time</th>\n",
       "      <th>path</th>\n",
       "      <th>user_id</th>\n",
       "      <th>cohort_id</th>\n",
       "      <th>ip</th>\n",
       "      <th>name</th>\n",
       "      <th>start_date</th>\n",
       "      <th>end_date</th>\n",
       "      <th>created_at</th>\n",
       "      <th>updated_at</th>\n",
       "      <th>program_id</th>\n",
       "      <th>date_time</th>\n",
       "      <th>program_type</th>\n",
       "    </tr>\n",
       "  </thead>\n",
       "  <tbody>\n",
       "    <tr>\n",
       "      <th>175820</th>\n",
       "      <td>2019-01-01</td>\n",
       "      <td>16:38:45</td>\n",
       "      <td>mysql</td>\n",
       "      <td>262</td>\n",
       "      <td>26.0</td>\n",
       "      <td>97.105.90.179</td>\n",
       "      <td>Xanadu</td>\n",
       "      <td>2018-09-17</td>\n",
       "      <td>2019-02-08</td>\n",
       "      <td>2018-09-17 19:09:51</td>\n",
       "      <td>2018-09-17 19:09:51</td>\n",
       "      <td>full_stack_java</td>\n",
       "      <td>2019-01-01 16:38:45</td>\n",
       "      <td>web</td>\n",
       "    </tr>\n",
       "  </tbody>\n",
       "</table>\n",
       "</div>"
      ],
      "text/plain": [
       "             date      time   path  user_id  cohort_id             ip    name  \\\n",
       "175820 2019-01-01  16:38:45  mysql      262       26.0  97.105.90.179  Xanadu   \n",
       "\n",
       "       start_date   end_date          created_at          updated_at  \\\n",
       "175820 2018-09-17 2019-02-08 2018-09-17 19:09:51 2018-09-17 19:09:51   \n",
       "\n",
       "             program_id           date_time program_type  \n",
       "175820  full_stack_java 2019-01-01 16:38:45          web  "
      ]
     },
     "execution_count": 31,
     "metadata": {},
     "output_type": "execute_result"
    }
   ],
   "source": [
    "#Searching for 'java' in path name to identify some web dev courses, saving to web_courses df:\n",
    "data_courses = log_2019[log_2019.path.str.contains('excel|Regression|mysql|Probability', regex=True, flags=re.IGNORECASE)]\n",
    "data_courses.head(1)"
   ]
  },
  {
   "cell_type": "code",
   "execution_count": 32,
   "id": "3277f4e0",
   "metadata": {},
   "outputs": [],
   "source": [
    "#Setting earliest date to 12/31/17:\n",
    "first_date = dt.datetime(2013, 12, 31)\n",
    "#Setting latest date to 1/1/20:\n",
    "second_date = dt.datetime(2022, 1, 1)\n",
    "\n",
    "#Creating a DataFrame containing only records within above rage:\n",
    "data_crossover = data_courses[(data_courses.date > first_date) & (data_courses.date < second_date)]"
   ]
  },
  {
   "cell_type": "code",
   "execution_count": 33,
   "id": "1fa2e728",
   "metadata": {},
   "outputs": [
    {
     "data": {
      "image/png": "[encoded data removed]",
      "text/plain": [
       "<Figure size 1152x648 with 1 Axes>"
      ]
     },
     "metadata": {},
     "output_type": "display_data"
    }
   ],
   "source": [
    "sns.set(rc = {'figure.figsize':(16,9)})\n",
    "sns.histplot(data = data_crossover, x = data_crossover.date).set(title = \"Web Dev Students Accessing DS Material in 2019\");\n"
   ]
  },
  {
   "cell_type": "markdown",
   "id": "fb5f9d81",
   "metadata": {},
   "source": [
    "### I'm going to try changing the dates and see what happens:"
   ]
  },
  {
   "cell_type": "code",
   "execution_count": 36,
   "id": "63b69eac",
   "metadata": {},
   "outputs": [],
   "source": [
    "#Setting earliest date to 12/31/17:\n",
    "first_date = dt.datetime(2017, 12, 31)\n",
    "#Setting latest date to 1/1/20:\n",
    "second_date = dt.datetime(2020, 1, 1)\n",
    "\n",
    "#Creating a DataFrame containing only records within above rage:\n",
    "log_18_19 = df[(df.date > first_date) & (df.date < second_date)]"
   ]
  },
  {
   "cell_type": "code",
   "execution_count": 37,
   "id": "fbae3b97",
   "metadata": {
    "scrolled": true
   },
   "outputs": [
    {
     "data": {
      "image/png": "[encoded data removed]",
      "text/plain": [
       "<Figure size 360x360 with 1 Axes>"
      ]
     },
     "metadata": {},
     "output_type": "display_data"
    }
   ],
   "source": [
    "sns.displot(data = log_18_19, x = log_18_19.date).set(title = \"Total Curriculum Access Across 2018 and 2019\")\n",
    "sns.set(rc = {'figure.figsize':(16,9)});"
   ]
  },
  {
   "cell_type": "code",
   "execution_count": 38,
   "id": "0f43881d",
   "metadata": {},
   "outputs": [],
   "source": [
    "#Searching for 'java' in path name to identify some web dev courses for both 18 and 19, saving to web_courses2 df:\n",
    "data_courses =log_18_19[log_18_19.path.str.contains('excel|Regression|mysql|Probability', regex=True, flags=re.IGNORECASE)]"
   ]
  },
  {
   "cell_type": "code",
   "execution_count": 39,
   "id": "7d3f91b5",
   "metadata": {},
   "outputs": [
    {
     "data": {
      "text/html": [
       "<div>\n",
       "<style scoped>\n",
       "    .dataframe tbody tr th:only-of-type {\n",
       "        vertical-align: middle;\n",
       "    }\n",
       "\n",
       "    .dataframe tbody tr th {\n",
       "        vertical-align: top;\n",
       "    }\n",
       "\n",
       "    .dataframe thead th {\n",
       "        text-align: right;\n",
       "    }\n",
       "</style>\n",
       "<table border=\"1\" class=\"dataframe\">\n",
       "  <thead>\n",
       "    <tr style=\"text-align: right;\">\n",
       "      <th></th>\n",
       "      <th>date</th>\n",
       "      <th>time</th>\n",
       "      <th>path</th>\n",
       "      <th>user_id</th>\n",
       "      <th>cohort_id</th>\n",
       "      <th>ip</th>\n",
       "      <th>name</th>\n",
       "      <th>start_date</th>\n",
       "      <th>end_date</th>\n",
       "      <th>created_at</th>\n",
       "      <th>updated_at</th>\n",
       "      <th>program_id</th>\n",
       "      <th>date_time</th>\n",
       "      <th>program_type</th>\n",
       "    </tr>\n",
       "  </thead>\n",
       "  <tbody>\n",
       "    <tr>\n",
       "      <th>149</th>\n",
       "      <td>2018-01-26</td>\n",
       "      <td>11:48:17</td>\n",
       "      <td>mysql</td>\n",
       "      <td>16</td>\n",
       "      <td>21.0</td>\n",
       "      <td>97.105.19.61</td>\n",
       "      <td>Sequoia</td>\n",
       "      <td>2017-09-27</td>\n",
       "      <td>2018-02-15</td>\n",
       "      <td>2017-09-27 20:22:41</td>\n",
       "      <td>2017-09-27 20:22:41</td>\n",
       "      <td>full_stack_java</td>\n",
       "      <td>2018-01-26 11:48:17</td>\n",
       "      <td>web</td>\n",
       "    </tr>\n",
       "    <tr>\n",
       "      <th>234</th>\n",
       "      <td>2018-01-26</td>\n",
       "      <td>13:51:13</td>\n",
       "      <td>mysql</td>\n",
       "      <td>36</td>\n",
       "      <td>21.0</td>\n",
       "      <td>97.105.19.61</td>\n",
       "      <td>Sequoia</td>\n",
       "      <td>2017-09-27</td>\n",
       "      <td>2018-02-15</td>\n",
       "      <td>2017-09-27 20:22:41</td>\n",
       "      <td>2017-09-27 20:22:41</td>\n",
       "      <td>full_stack_java</td>\n",
       "      <td>2018-01-26 13:51:13</td>\n",
       "      <td>web</td>\n",
       "    </tr>\n",
       "    <tr>\n",
       "      <th>235</th>\n",
       "      <td>2018-01-26</td>\n",
       "      <td>13:51:15</td>\n",
       "      <td>mysql/users</td>\n",
       "      <td>36</td>\n",
       "      <td>21.0</td>\n",
       "      <td>97.105.19.61</td>\n",
       "      <td>Sequoia</td>\n",
       "      <td>2017-09-27</td>\n",
       "      <td>2018-02-15</td>\n",
       "      <td>2017-09-27 20:22:41</td>\n",
       "      <td>2017-09-27 20:22:41</td>\n",
       "      <td>full_stack_java</td>\n",
       "      <td>2018-01-26 13:51:15</td>\n",
       "      <td>web</td>\n",
       "    </tr>\n",
       "    <tr>\n",
       "      <th>236</th>\n",
       "      <td>2018-01-26</td>\n",
       "      <td>13:51:17</td>\n",
       "      <td>mysql/sample-database</td>\n",
       "      <td>36</td>\n",
       "      <td>21.0</td>\n",
       "      <td>97.105.19.61</td>\n",
       "      <td>Sequoia</td>\n",
       "      <td>2017-09-27</td>\n",
       "      <td>2018-02-15</td>\n",
       "      <td>2017-09-27 20:22:41</td>\n",
       "      <td>2017-09-27 20:22:41</td>\n",
       "      <td>full_stack_java</td>\n",
       "      <td>2018-01-26 13:51:17</td>\n",
       "      <td>web</td>\n",
       "    </tr>\n",
       "    <tr>\n",
       "      <th>238</th>\n",
       "      <td>2018-01-26</td>\n",
       "      <td>13:51:24</td>\n",
       "      <td>mysql/functions</td>\n",
       "      <td>36</td>\n",
       "      <td>21.0</td>\n",
       "      <td>97.105.19.61</td>\n",
       "      <td>Sequoia</td>\n",
       "      <td>2017-09-27</td>\n",
       "      <td>2018-02-15</td>\n",
       "      <td>2017-09-27 20:22:41</td>\n",
       "      <td>2017-09-27 20:22:41</td>\n",
       "      <td>full_stack_java</td>\n",
       "      <td>2018-01-26 13:51:24</td>\n",
       "      <td>web</td>\n",
       "    </tr>\n",
       "    <tr>\n",
       "      <th>...</th>\n",
       "      <td>...</td>\n",
       "      <td>...</td>\n",
       "      <td>...</td>\n",
       "      <td>...</td>\n",
       "      <td>...</td>\n",
       "      <td>...</td>\n",
       "      <td>...</td>\n",
       "      <td>...</td>\n",
       "      <td>...</td>\n",
       "      <td>...</td>\n",
       "      <td>...</td>\n",
       "      <td>...</td>\n",
       "      <td>...</td>\n",
       "      <td>...</td>\n",
       "    </tr>\n",
       "    <tr>\n",
       "      <th>421866</th>\n",
       "      <td>2019-12-31</td>\n",
       "      <td>07:37:38</td>\n",
       "      <td>mysql/users</td>\n",
       "      <td>489</td>\n",
       "      <td>51.0</td>\n",
       "      <td>66.25.173.125</td>\n",
       "      <td>Deimos</td>\n",
       "      <td>2019-09-16</td>\n",
       "      <td>2020-02-27</td>\n",
       "      <td>2019-09-16 13:07:04</td>\n",
       "      <td>2019-09-16 13:07:04</td>\n",
       "      <td>full_stack_java</td>\n",
       "      <td>2019-12-31 07:37:38</td>\n",
       "      <td>web</td>\n",
       "    </tr>\n",
       "    <tr>\n",
       "      <th>421867</th>\n",
       "      <td>2019-12-31</td>\n",
       "      <td>07:39:50</td>\n",
       "      <td>mysql/databases</td>\n",
       "      <td>489</td>\n",
       "      <td>51.0</td>\n",
       "      <td>66.25.173.125</td>\n",
       "      <td>Deimos</td>\n",
       "      <td>2019-09-16</td>\n",
       "      <td>2020-02-27</td>\n",
       "      <td>2019-09-16 13:07:04</td>\n",
       "      <td>2019-09-16 13:07:04</td>\n",
       "      <td>full_stack_java</td>\n",
       "      <td>2019-12-31 07:39:50</td>\n",
       "      <td>web</td>\n",
       "    </tr>\n",
       "    <tr>\n",
       "      <th>421868</th>\n",
       "      <td>2019-12-31</td>\n",
       "      <td>07:41:53</td>\n",
       "      <td>mysql/tables</td>\n",
       "      <td>489</td>\n",
       "      <td>51.0</td>\n",
       "      <td>66.25.173.125</td>\n",
       "      <td>Deimos</td>\n",
       "      <td>2019-09-16</td>\n",
       "      <td>2020-02-27</td>\n",
       "      <td>2019-09-16 13:07:04</td>\n",
       "      <td>2019-09-16 13:07:04</td>\n",
       "      <td>full_stack_java</td>\n",
       "      <td>2019-12-31 07:41:53</td>\n",
       "      <td>web</td>\n",
       "    </tr>\n",
       "    <tr>\n",
       "      <th>421875</th>\n",
       "      <td>2019-12-31</td>\n",
       "      <td>09:08:28</td>\n",
       "      <td>mysql</td>\n",
       "      <td>509</td>\n",
       "      <td>51.0</td>\n",
       "      <td>108.71.183.46</td>\n",
       "      <td>Deimos</td>\n",
       "      <td>2019-09-16</td>\n",
       "      <td>2020-02-27</td>\n",
       "      <td>2019-09-16 13:07:04</td>\n",
       "      <td>2019-09-16 13:07:04</td>\n",
       "      <td>full_stack_java</td>\n",
       "      <td>2019-12-31 09:08:28</td>\n",
       "      <td>web</td>\n",
       "    </tr>\n",
       "    <tr>\n",
       "      <th>421897</th>\n",
       "      <td>2019-12-31</td>\n",
       "      <td>12:05:05</td>\n",
       "      <td>7-classification/6.1-logistic-regression</td>\n",
       "      <td>358</td>\n",
       "      <td>34.0</td>\n",
       "      <td>65.43.118.72</td>\n",
       "      <td>Bayes</td>\n",
       "      <td>2019-08-19</td>\n",
       "      <td>2020-01-30</td>\n",
       "      <td>2019-08-20 14:38:55</td>\n",
       "      <td>2019-08-20 14:38:55</td>\n",
       "      <td>data_science</td>\n",
       "      <td>2019-12-31 12:05:05</td>\n",
       "      <td>data</td>\n",
       "    </tr>\n",
       "  </tbody>\n",
       "</table>\n",
       "<p>48304 rows × 14 columns</p>\n",
       "</div>"
      ],
      "text/plain": [
       "             date      time                                      path  \\\n",
       "149    2018-01-26  11:48:17                                     mysql   \n",
       "234    2018-01-26  13:51:13                                     mysql   \n",
       "235    2018-01-26  13:51:15                               mysql/users   \n",
       "236    2018-01-26  13:51:17                     mysql/sample-database   \n",
       "238    2018-01-26  13:51:24                           mysql/functions   \n",
       "...           ...       ...                                       ...   \n",
       "421866 2019-12-31  07:37:38                               mysql/users   \n",
       "421867 2019-12-31  07:39:50                           mysql/databases   \n",
       "421868 2019-12-31  07:41:53                              mysql/tables   \n",
       "421875 2019-12-31  09:08:28                                     mysql   \n",
       "421897 2019-12-31  12:05:05  7-classification/6.1-logistic-regression   \n",
       "\n",
       "        user_id  cohort_id             ip     name start_date   end_date  \\\n",
       "149          16       21.0   97.105.19.61  Sequoia 2017-09-27 2018-02-15   \n",
       "234          36       21.0   97.105.19.61  Sequoia 2017-09-27 2018-02-15   \n",
       "235          36       21.0   97.105.19.61  Sequoia 2017-09-27 2018-02-15   \n",
       "236          36       21.0   97.105.19.61  Sequoia 2017-09-27 2018-02-15   \n",
       "238          36       21.0   97.105.19.61  Sequoia 2017-09-27 2018-02-15   \n",
       "...         ...        ...            ...      ...        ...        ...   \n",
       "421866      489       51.0  66.25.173.125   Deimos 2019-09-16 2020-02-27   \n",
       "421867      489       51.0  66.25.173.125   Deimos 2019-09-16 2020-02-27   \n",
       "421868      489       51.0  66.25.173.125   Deimos 2019-09-16 2020-02-27   \n",
       "421875      509       51.0  108.71.183.46   Deimos 2019-09-16 2020-02-27   \n",
       "421897      358       34.0   65.43.118.72    Bayes 2019-08-19 2020-01-30   \n",
       "\n",
       "                created_at          updated_at       program_id  \\\n",
       "149    2017-09-27 20:22:41 2017-09-27 20:22:41  full_stack_java   \n",
       "234    2017-09-27 20:22:41 2017-09-27 20:22:41  full_stack_java   \n",
       "235    2017-09-27 20:22:41 2017-09-27 20:22:41  full_stack_java   \n",
       "236    2017-09-27 20:22:41 2017-09-27 20:22:41  full_stack_java   \n",
       "238    2017-09-27 20:22:41 2017-09-27 20:22:41  full_stack_java   \n",
       "...                    ...                 ...              ...   \n",
       "421866 2019-09-16 13:07:04 2019-09-16 13:07:04  full_stack_java   \n",
       "421867 2019-09-16 13:07:04 2019-09-16 13:07:04  full_stack_java   \n",
       "421868 2019-09-16 13:07:04 2019-09-16 13:07:04  full_stack_java   \n",
       "421875 2019-09-16 13:07:04 2019-09-16 13:07:04  full_stack_java   \n",
       "421897 2019-08-20 14:38:55 2019-08-20 14:38:55     data_science   \n",
       "\n",
       "                 date_time program_type  \n",
       "149    2018-01-26 11:48:17          web  \n",
       "234    2018-01-26 13:51:13          web  \n",
       "235    2018-01-26 13:51:15          web  \n",
       "236    2018-01-26 13:51:17          web  \n",
       "238    2018-01-26 13:51:24          web  \n",
       "...                    ...          ...  \n",
       "421866 2019-12-31 07:37:38          web  \n",
       "421867 2019-12-31 07:39:50          web  \n",
       "421868 2019-12-31 07:41:53          web  \n",
       "421875 2019-12-31 09:08:28          web  \n",
       "421897 2019-12-31 12:05:05         data  \n",
       "\n",
       "[48304 rows x 14 columns]"
      ]
     },
     "execution_count": 39,
     "metadata": {},
     "output_type": "execute_result"
    }
   ],
   "source": [
    "data_courses"
   ]
  },
  {
   "cell_type": "code",
   "execution_count": 40,
   "id": "cf357508",
   "metadata": {},
   "outputs": [
    {
     "data": {
      "text/plain": [
       "0"
      ]
     },
     "execution_count": 40,
     "metadata": {},
     "output_type": "execute_result"
    }
   ],
   "source": [
    "#Creating a dataframe showing data students accessing web dev content in 18 AND 19, called ds_in_wd2:\n",
    "ds_in_wd2 = web_courses2[web_courses2.program_type == 'data']\n",
    "ds_in_wd2.shape[0]"
   ]
  },
  {
   "cell_type": "code",
   "execution_count": 41,
   "id": "369c82b5",
   "metadata": {},
   "outputs": [
    {
     "data": {
      "image/png": "[encoded data removed]",
      "text/plain": [
       "<Figure size 1152x648 with 1 Axes>"
      ]
     },
     "metadata": {},
     "output_type": "display_data"
    }
   ],
   "source": [
    "#This plot shows the data student access to web dev courses:\n",
    "sns.histplot(data = ds_in_wd2, x = 'date', bins = 20)\n",
    "sns.set(rc = {'figure.figsize':(16,9)});"
   ]
  },
  {
   "cell_type": "markdown",
   "id": "b061aa6c",
   "metadata": {},
   "source": [
    "### Trying to Identify Instances of Students Accessing Other Curriculum:"
   ]
  },
  {
   "cell_type": "code",
   "execution_count": 42,
   "id": "dc8afeba",
   "metadata": {},
   "outputs": [
    {
     "ename": "NameError",
     "evalue": "name 'df2' is not defined",
     "output_type": "error",
     "traceback": [
      "\u001b[0;31m---------------------------------------------------------------------------\u001b[0m",
      "\u001b[0;31mNameError\u001b[0m                                 Traceback (most recent call last)",
      "\u001b[0;32m/var/folders/dk/lzs3plw14ms00nxw2vwq68vc0000gn/T/ipykernel_61721/2331434377.py\u001b[0m in \u001b[0;36m<module>\u001b[0;34m\u001b[0m\n\u001b[0;32m----> 1\u001b[0;31m \u001b[0mdf2\u001b[0m\u001b[0;34m.\u001b[0m\u001b[0mapply\u001b[0m\u001b[0;34m(\u001b[0m\u001b[0mprogram_type\u001b[0m\u001b[0;34m,\u001b[0m \u001b[0;36m1\u001b[0m\u001b[0;34m)\u001b[0m\u001b[0;34m\u001b[0m\u001b[0;34m\u001b[0m\u001b[0m\n\u001b[0m",
      "\u001b[0;31mNameError\u001b[0m: name 'df2' is not defined"
     ]
    }
   ],
   "source": [
    "df2.apply(program_type, 1)"
   ]
  },
  {
   "cell_type": "code",
   "execution_count": null,
   "id": "523626f6",
   "metadata": {
    "scrolled": true
   },
   "outputs": [],
   "source": [
    "df[df.program_id.isnull()]"
   ]
  },
  {
   "cell_type": "code",
   "execution_count": null,
   "id": "c34bf8ed",
   "metadata": {},
   "outputs": [],
   "source": [
    "data_students = df[df.program_id == 'data_science']\n",
    "web_students = df[(df.program_id != 'data_science') & (df.program_id != None)].dropna()"
   ]
  },
  {
   "cell_type": "code",
   "execution_count": null,
   "id": "0cf2f538",
   "metadata": {},
   "outputs": [],
   "source": [
    "web_students"
   ]
  },
  {
   "cell_type": "code",
   "execution_count": null,
   "id": "f6f5f0f7",
   "metadata": {},
   "outputs": [],
   "source": [
    "data_students"
   ]
  },
  {
   "cell_type": "code",
   "execution_count": null,
   "id": "a26ed13f",
   "metadata": {},
   "outputs": [],
   "source": [
    "df"
   ]
  },
  {
   "cell_type": "code",
   "execution_count": null,
   "id": "4ab67fa6",
   "metadata": {},
   "outputs": [],
   "source": [
    "web_to_data = df[(df.program_id == 'full_stack_java') & df.path]"
   ]
  },
  {
   "cell_type": "code",
   "execution_count": null,
   "id": "0b897001",
   "metadata": {},
   "outputs": [],
   "source": [
    "df.program_id.unique()"
   ]
  },
  {
   "cell_type": "markdown",
   "id": "0fcea04b",
   "metadata": {},
   "source": [
    "## 6. What topics are grads continuing to reference after graduation and into their jobs (for each program)?"
   ]
  },
  {
   "cell_type": "markdown",
   "id": "133b59d1",
   "metadata": {},
   "source": [
    "## 7. Which lessons are least accessed?"
   ]
  },
  {
   "cell_type": "code",
   "execution_count": null,
   "id": "c147f667",
   "metadata": {},
   "outputs": [],
   "source": []
  },
  {
   "cell_type": "markdown",
   "id": "6c926b6e",
   "metadata": {},
   "source": [
    "## 8. Anything else I should be aware of?"
   ]
  },
  {
   "cell_type": "code",
   "execution_count": null,
   "id": "b6256380",
   "metadata": {},
   "outputs": [],
   "source": []
  },
  {
   "cell_type": "markdown",
   "id": "160e6ea4",
   "metadata": {},
   "source": [
    "# Extra Functionality:"
   ]
  },
  {
   "cell_type": "code",
   "execution_count": null,
   "id": "e12cdf49",
   "metadata": {},
   "outputs": [],
   "source": [
    "#Identifying active students:\n",
    "df[ (df.date > df.start_date) & (df.date < df.end_date)]"
   ]
  },
  {
   "cell_type": "code",
   "execution_count": null,
   "id": "af258b74",
   "metadata": {},
   "outputs": [],
   "source": [
    "#Adding column of how long students were actively in the program:\n",
    "df['tenure'] = df.end_date - df.start_date"
   ]
  },
  {
   "cell_type": "markdown",
   "id": "ba775c69",
   "metadata": {},
   "source": [
    "# Final Summary Section:"
   ]
  },
  {
   "cell_type": "markdown",
   "id": "4733c087",
   "metadata": {},
   "source": [
    "## Acquiring Data:"
   ]
  },
  {
   "cell_type": "code",
   "execution_count": 43,
   "id": "1e2d9dad",
   "metadata": {},
   "outputs": [],
   "source": [
    "#Getting the data from the database and caching it into a CSV:\n",
    "df = get_db_log_data()"
   ]
  },
  {
   "cell_type": "code",
   "execution_count": 44,
   "id": "8efa4f12",
   "metadata": {},
   "outputs": [],
   "source": [
    "df = wrangle_df(df)"
   ]
  },
  {
   "cell_type": "code",
   "execution_count": 45,
   "id": "472152be",
   "metadata": {},
   "outputs": [],
   "source": [
    "df = df.dropna()"
   ]
  },
  {
   "cell_type": "code",
   "execution_count": 46,
   "id": "c0cfa33d",
   "metadata": {},
   "outputs": [],
   "source": [
    "#Defining the function that adds the program type column based on program_id:\n",
    "def program_type(df):\n",
    "    #Creating an empty column on the DataFrame:\n",
    "    df['program_type'] = pd.Series()\n",
    "    #Calling type 'web' if program_id is not data_science\n",
    "    if df.program_id != 'data_science':\n",
    "        df.program_type ='web'\n",
    "    #Creating type 'data' if program_id is data:\n",
    "    elif df.program_id == 'data_science':\n",
    "        df.program_type = 'data'\n",
    "    #Returning DataFrame with new program_type column:\n",
    "    return df"
   ]
  },
  {
   "cell_type": "code",
   "execution_count": 47,
   "id": "7dd230c8",
   "metadata": {},
   "outputs": [
    {
     "name": "stderr",
     "output_type": "stream",
     "text": [
      "/var/folders/dk/lzs3plw14ms00nxw2vwq68vc0000gn/T/ipykernel_61721/1368827443.py:4: DeprecationWarning: The default dtype for empty Series will be 'object' instead of 'float64' in a future version. Specify a dtype explicitly to silence this warning.\n",
      "  df['program_type'] = pd.Series()\n"
     ]
    }
   ],
   "source": [
    "df = df.apply(program_type, 1)"
   ]
  },
  {
   "cell_type": "markdown",
   "id": "266e8eb7",
   "metadata": {},
   "source": [
    "## Determining Crossover from Web Development to Data Science:"
   ]
  },
  {
   "cell_type": "code",
   "execution_count": 52,
   "id": "5d7b5103",
   "metadata": {},
   "outputs": [],
   "source": [
    "web_students = df[df.program_type == 'web']\n",
    "data_students = df[df.program_type == 'data']"
   ]
  },
  {
   "cell_type": "code",
   "execution_count": 50,
   "id": "d907f6ec",
   "metadata": {},
   "outputs": [],
   "source": [
    "#Setting earliest date to 12/31/18:\n",
    "first_date = dt.datetime(2018, 12, 31)\n",
    "#Setting latest date to 1/1/20:\n",
    "second_date = dt.datetime(2020, 1, 1)\n",
    "\n",
    "#Creating a DataFrame containing only records within above range:\n",
    "web_dev_log = web_students[(web_students.date > first_date) & (web_students.date < second_date)]"
   ]
  },
  {
   "cell_type": "code",
   "execution_count": 56,
   "id": "27e913c3",
   "metadata": {},
   "outputs": [],
   "source": [
    "#Searching for 'java' in path name to identify some web dev courses for both 18 and 19, saving to web_courses2 df:\n",
    "web_crossover = web_dev_log[web_dev_log.path.str.contains('excel|Regression|mysql|Probability', regex=True, flags=re.IGNORECASE)]"
   ]
  },
  {
   "cell_type": "code",
   "execution_count": 57,
   "id": "a2049476",
   "metadata": {
    "scrolled": false
   },
   "outputs": [
    {
     "data": {
      "image/png": "[encoded data removed]",
      "text/plain": [
       "<Figure size 1152x648 with 1 Axes>"
      ]
     },
     "metadata": {},
     "output_type": "display_data"
    }
   ],
   "source": [
    "#This plot shows the web student access to data courses:\n",
    "sns.histplot(data = web_crossover, x = 'date', bins = 20)\n",
    "sns.set(rc = {'figure.figsize':(16,9)});"
   ]
  },
  {
   "cell_type": "markdown",
   "id": "a9cbfc04",
   "metadata": {},
   "source": [
    "## Determining Cross Over From Data Science to Web Development:"
   ]
  },
  {
   "cell_type": "code",
   "execution_count": 53,
   "id": "5962dcfb",
   "metadata": {},
   "outputs": [],
   "source": [
    "#Setting earliest date to 12/31/18:\n",
    "first_date = dt.datetime(2018, 12, 31)\n",
    "#Setting latest date to 1/1/20:\n",
    "second_date = dt.datetime(2020, 1, 1)\n",
    "\n",
    "#Creating a DataFrame containing only records within above range:\n",
    "data_log = data_students[(data_students.date > first_date) & (data_students.date < second_date)]"
   ]
  },
  {
   "cell_type": "code",
   "execution_count": 58,
   "id": "7a424b2e",
   "metadata": {},
   "outputs": [],
   "source": [
    "#Searching for 'java' in path name to identify some web dev courses for both 18 and 19, saving to web_courses2 df:\n",
    "data_crossover = data_log[data_log.path.str.contains('html|css|java|spring', regex=True, flags=re.IGNORECASE)]"
   ]
  },
  {
   "cell_type": "code",
   "execution_count": 59,
   "id": "99689ad2",
   "metadata": {},
   "outputs": [
    {
     "data": {
      "image/png": "[encoded data removed]",
      "text/plain": [
       "<Figure size 1152x648 with 1 Axes>"
      ]
     },
     "metadata": {},
     "output_type": "display_data"
    }
   ],
   "source": [
    "#This plot shows the data student access to web dev courses:\n",
    "sns.histplot(data = data_crossover, x = 'date', bins = 20)\n",
    "sns.set(rc = {'figure.figsize':(16,9)});"
   ]
  }
 ],
 "metadata": {
  "kernelspec": {
   "display_name": "Python 3 (ipykernel)",
   "language": "python",
   "name": "python3"
  },
  "language_info": {
   "codemirror_mode": {
    "name": "ipython",
    "version": 3
   },
   "file_extension": ".py",
   "mimetype": "text/x-python",
   "name": "python",
   "nbconvert_exporter": "python",
   "pygments_lexer": "ipython3",
   "version": "3.9.7"
  }
 },
 "nbformat": 4,
 "nbformat_minor": 5
}
