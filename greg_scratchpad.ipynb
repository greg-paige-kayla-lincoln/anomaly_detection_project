{
 "cells": [
  {
   "cell_type": "code",
   "execution_count": 1,
   "id": "4dc177d6",
   "metadata": {},
   "outputs": [],
   "source": [
    "import pandas as pd"
   ]
  },
  {
   "cell_type": "code",
   "execution_count": 7,
   "id": "d9858fe2",
   "metadata": {},
   "outputs": [],
   "source": [
    "df = pd.read_csv('anonymized_curriculum_access.csv', sep = ' ')"
   ]
  },
  {
   "cell_type": "code",
   "execution_count": 9,
   "id": "9bb2e653",
   "metadata": {},
   "outputs": [
    {
     "data": {
      "text/plain": [
       "900223"
      ]
     },
     "execution_count": 9,
     "metadata": {},
     "output_type": "execute_result"
    }
   ],
   "source": [
    "df.shape[0]"
   ]
  }
 ],
 "metadata": {
  "kernelspec": {
   "display_name": "Python 3 (ipykernel)",
   "language": "python",
   "name": "python3"
  },
  "language_info": {
   "codemirror_mode": {
    "name": "ipython",
    "version": 3
   },
   "file_extension": ".py",
   "mimetype": "text/x-python",
   "name": "python",
   "nbconvert_exporter": "python",
   "pygments_lexer": "ipython3",
   "version": "3.9.7"
  }
 },
 "nbformat": 4,
 "nbformat_minor": 5
}
