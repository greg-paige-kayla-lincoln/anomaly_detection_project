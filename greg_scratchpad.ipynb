{
 "cells": [
  {
   "cell_type": "code",
   "execution_count": 2,
   "id": "4dc177d6",
   "metadata": {},
   "outputs": [],
   "source": [
    "import pandas as pd\n",
    "from env import get_db_url"
   ]
  },
  {
   "cell_type": "markdown",
   "id": "5924a4cf",
   "metadata": {},
   "source": [
    "# Acquire:"
   ]
  },
  {
   "cell_type": "markdown",
   "id": "a376cb13",
   "metadata": {},
   "source": [
    "I need to figure out why these are coming out differently after the join. \n",
    "- There's a difference of 52,887 records. \n",
    "- it appears that there there are some IDs and Cohort IDs that do not much."
   ]
  },
  {
   "cell_type": "markdown",
   "id": "93253635",
   "metadata": {},
   "source": [
    "### Importing from CSV:"
   ]
  },
  {
   "cell_type": "code",
   "execution_count": 48,
   "id": "d453d319",
   "metadata": {},
   "outputs": [],
   "source": [
    "df1 = pd.read_csv('anonymized_curriculum_access.csv')"
   ]
  },
  {
   "cell_type": "code",
   "execution_count": 49,
   "id": "be9ed7c4",
   "metadata": {},
   "outputs": [
    {
     "data": {
      "text/plain": [
       "900223"
      ]
     },
     "execution_count": 49,
     "metadata": {},
     "output_type": "execute_result"
    }
   ],
   "source": [
    "df1.shape[0]"
   ]
  },
  {
   "cell_type": "markdown",
   "id": "176719d1",
   "metadata": {},
   "source": [
    "## Importing from the database using SQL"
   ]
  },
  {
   "cell_type": "code",
   "execution_count": 33,
   "id": "893a41c5",
   "metadata": {},
   "outputs": [],
   "source": [
    "url = get_db_url('curriculum_logs')\n",
    "\n",
    "query = '''SELECT * FROM logs\n",
    "RIGHT JOIN cohorts \n",
    "ON logs.cohort_id = cohorts.id;'''"
   ]
  },
  {
   "cell_type": "code",
   "execution_count": 46,
   "id": "86bc2a65",
   "metadata": {},
   "outputs": [],
   "source": [
    "df2 = pd.read_sql(query, url)"
   ]
  },
  {
   "cell_type": "code",
   "execution_count": 47,
   "id": "aa16ebff",
   "metadata": {},
   "outputs": [
    {
     "data": {
      "text/plain": [
       "847336"
      ]
     },
     "execution_count": 47,
     "metadata": {},
     "output_type": "execute_result"
    }
   ],
   "source": [
    "df2.shape[0]"
   ]
  },
  {
   "cell_type": "markdown",
   "id": "dbab453f",
   "metadata": {},
   "source": [
    "## Trying to understand difference in counts:"
   ]
  },
  {
   "cell_type": "code",
   "execution_count": 51,
   "id": "cff5753d",
   "metadata": {},
   "outputs": [
    {
     "data": {
      "text/plain": [
       "52887"
      ]
     },
     "execution_count": 51,
     "metadata": {},
     "output_type": "execute_result"
    }
   ],
   "source": [
    "df1.shape[0] - df2.shape[0]"
   ]
  }
 ],
 "metadata": {
  "kernelspec": {
   "display_name": "Python 3 (ipykernel)",
   "language": "python",
   "name": "python3"
  },
  "language_info": {
   "codemirror_mode": {
    "name": "ipython",
    "version": 3
   },
   "file_extension": ".py",
   "mimetype": "text/x-python",
   "name": "python",
   "nbconvert_exporter": "python",
   "pygments_lexer": "ipython3",
   "version": "3.9.7"
  }
 },
 "nbformat": 4,
 "nbformat_minor": 5
}
