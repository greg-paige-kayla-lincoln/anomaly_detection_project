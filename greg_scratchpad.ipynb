{
 "cells": [
  {
   "cell_type": "code",
   "execution_count": 4,
   "id": "4dc177d6",
   "metadata": {},
   "outputs": [],
   "source": [
    "import pandas as pd\n",
    "import numpy as np\n",
    "import os\n",
    "\n",
    "from env import get_db_url\n",
    "from acquire import get_db_log_data\n",
    "from wrangle import wrangle_df"
   ]
  },
  {
   "cell_type": "markdown",
   "id": "5924a4cf",
   "metadata": {},
   "source": [
    "# Acquire:"
   ]
  },
  {
   "cell_type": "markdown",
   "id": "a376cb13",
   "metadata": {},
   "source": [
    "I need to figure out why these are coming out differently after the join. \n",
    "- There's a difference of 52,887 records.\n",
    "    - It looks like the difference here is due to having 52,893 null values in logs.cohort_id.\n",
    "    - There are 6 cohorts in the cohorts_id table that do not have any server traffic, so perhaps they didn't exist.\n",
    "    - 52,887 that didn't have anything to tie them to the cohorts table. Probably cohort ids - come back and verify.\n",
    "- it appears that there there are some IDs and Cohort IDs that do not much."
   ]
  },
  {
   "cell_type": "markdown",
   "id": "bd3041ca",
   "metadata": {},
   "source": [
    "## Importing from the database using SQL"
   ]
  },
  {
   "cell_type": "code",
   "execution_count": 2,
   "id": "0a48c720",
   "metadata": {},
   "outputs": [],
   "source": [
    "df = get_db_log_data()"
   ]
  },
  {
   "cell_type": "code",
   "execution_count": 3,
   "id": "96533640",
   "metadata": {
    "scrolled": true
   },
   "outputs": [
    {
     "data": {
      "text/html": [
       "<div>\n",
       "<style scoped>\n",
       "    .dataframe tbody tr th:only-of-type {\n",
       "        vertical-align: middle;\n",
       "    }\n",
       "\n",
       "    .dataframe tbody tr th {\n",
       "        vertical-align: top;\n",
       "    }\n",
       "\n",
       "    .dataframe thead th {\n",
       "        text-align: right;\n",
       "    }\n",
       "</style>\n",
       "<table border=\"1\" class=\"dataframe\">\n",
       "  <thead>\n",
       "    <tr style=\"text-align: right;\">\n",
       "      <th></th>\n",
       "      <th>date</th>\n",
       "      <th>time</th>\n",
       "      <th>path</th>\n",
       "      <th>user_id</th>\n",
       "      <th>cohort_id</th>\n",
       "      <th>ip</th>\n",
       "      <th>id</th>\n",
       "      <th>name</th>\n",
       "      <th>slack</th>\n",
       "      <th>start_date</th>\n",
       "      <th>end_date</th>\n",
       "      <th>created_at</th>\n",
       "      <th>updated_at</th>\n",
       "      <th>deleted_at</th>\n",
       "      <th>program_id</th>\n",
       "    </tr>\n",
       "  </thead>\n",
       "  <tbody>\n",
       "    <tr>\n",
       "      <th>244655</th>\n",
       "      <td>2019-04-15</td>\n",
       "      <td>09:00:30</td>\n",
       "      <td>java-iii/jsp-and-jstl</td>\n",
       "      <td>344</td>\n",
       "      <td>29.0</td>\n",
       "      <td>97.105.19.58</td>\n",
       "      <td>29.0</td>\n",
       "      <td>Zion</td>\n",
       "      <td>#zion</td>\n",
       "      <td>2019-01-22</td>\n",
       "      <td>2019-06-04</td>\n",
       "      <td>2019-01-20 23:18:57</td>\n",
       "      <td>2019-01-20 23:18:57</td>\n",
       "      <td>None</td>\n",
       "      <td>2.0</td>\n",
       "    </tr>\n",
       "    <tr>\n",
       "      <th>407549</th>\n",
       "      <td>2019-12-03</td>\n",
       "      <td>14:23:04</td>\n",
       "      <td>11-nlp/2-regular-expressions</td>\n",
       "      <td>469</td>\n",
       "      <td>34.0</td>\n",
       "      <td>97.105.19.58</td>\n",
       "      <td>34.0</td>\n",
       "      <td>Bayes</td>\n",
       "      <td>#</td>\n",
       "      <td>2019-08-19</td>\n",
       "      <td>2020-01-30</td>\n",
       "      <td>2019-08-20 14:38:55</td>\n",
       "      <td>2019-08-20 14:38:55</td>\n",
       "      <td>None</td>\n",
       "      <td>3.0</td>\n",
       "    </tr>\n",
       "    <tr>\n",
       "      <th>425713</th>\n",
       "      <td>2020-01-08</td>\n",
       "      <td>14:03:15</td>\n",
       "      <td>12-distributed-ml/6-ml-with-spark</td>\n",
       "      <td>248</td>\n",
       "      <td>28.0</td>\n",
       "      <td>97.105.19.58</td>\n",
       "      <td>28.0</td>\n",
       "      <td>Staff</td>\n",
       "      <td>#</td>\n",
       "      <td>2014-02-04</td>\n",
       "      <td>2014-02-04</td>\n",
       "      <td>2018-12-06 17:04:19</td>\n",
       "      <td>2018-12-06 17:04:19</td>\n",
       "      <td>None</td>\n",
       "      <td>2.0</td>\n",
       "    </tr>\n",
       "    <tr>\n",
       "      <th>140696</th>\n",
       "      <td>2018-10-15</td>\n",
       "      <td>09:05:46</td>\n",
       "      <td>javascript-i/bom-and-dom/dom</td>\n",
       "      <td>53</td>\n",
       "      <td>14.0</td>\n",
       "      <td>97.105.19.58</td>\n",
       "      <td>14.0</td>\n",
       "      <td>Lassen</td>\n",
       "      <td>#lassen</td>\n",
       "      <td>2016-07-18</td>\n",
       "      <td>2016-11-10</td>\n",
       "      <td>2016-07-18 19:06:27</td>\n",
       "      <td>2016-07-18 19:06:27</td>\n",
       "      <td>None</td>\n",
       "      <td>1.0</td>\n",
       "    </tr>\n",
       "    <tr>\n",
       "      <th>87569</th>\n",
       "      <td>2018-07-19</td>\n",
       "      <td>11:04:48</td>\n",
       "      <td>javascript-ii/modules</td>\n",
       "      <td>188</td>\n",
       "      <td>24.0</td>\n",
       "      <td>97.105.19.58</td>\n",
       "      <td>24.0</td>\n",
       "      <td>Voyageurs</td>\n",
       "      <td>#voyageurs</td>\n",
       "      <td>2018-05-29</td>\n",
       "      <td>2018-10-11</td>\n",
       "      <td>2018-05-25 22:25:57</td>\n",
       "      <td>2018-05-25 22:25:57</td>\n",
       "      <td>None</td>\n",
       "      <td>2.0</td>\n",
       "    </tr>\n",
       "  </tbody>\n",
       "</table>\n",
       "</div>"
      ],
      "text/plain": [
       "              date      time                               path  user_id  \\\n",
       "244655  2019-04-15  09:00:30              java-iii/jsp-and-jstl      344   \n",
       "407549  2019-12-03  14:23:04       11-nlp/2-regular-expressions      469   \n",
       "425713  2020-01-08  14:03:15  12-distributed-ml/6-ml-with-spark      248   \n",
       "140696  2018-10-15  09:05:46       javascript-i/bom-and-dom/dom       53   \n",
       "87569   2018-07-19  11:04:48              javascript-ii/modules      188   \n",
       "\n",
       "        cohort_id            ip    id       name       slack  start_date  \\\n",
       "244655       29.0  97.105.19.58  29.0       Zion       #zion  2019-01-22   \n",
       "407549       34.0  97.105.19.58  34.0      Bayes           #  2019-08-19   \n",
       "425713       28.0  97.105.19.58  28.0      Staff           #  2014-02-04   \n",
       "140696       14.0  97.105.19.58  14.0     Lassen     #lassen  2016-07-18   \n",
       "87569        24.0  97.105.19.58  24.0  Voyageurs  #voyageurs  2018-05-29   \n",
       "\n",
       "          end_date           created_at           updated_at deleted_at  \\\n",
       "244655  2019-06-04  2019-01-20 23:18:57  2019-01-20 23:18:57       None   \n",
       "407549  2020-01-30  2019-08-20 14:38:55  2019-08-20 14:38:55       None   \n",
       "425713  2014-02-04  2018-12-06 17:04:19  2018-12-06 17:04:19       None   \n",
       "140696  2016-11-10  2016-07-18 19:06:27  2016-07-18 19:06:27       None   \n",
       "87569   2018-10-11  2018-05-25 22:25:57  2018-05-25 22:25:57       None   \n",
       "\n",
       "        program_id  \n",
       "244655         2.0  \n",
       "407549         3.0  \n",
       "425713         2.0  \n",
       "140696         1.0  \n",
       "87569          2.0  "
      ]
     },
     "execution_count": 3,
     "metadata": {},
     "output_type": "execute_result"
    }
   ],
   "source": [
    "df.sample(5)"
   ]
  },
  {
   "cell_type": "markdown",
   "id": "a431a1d8",
   "metadata": {},
   "source": [
    "# Wrangle:"
   ]
  },
  {
   "cell_type": "code",
   "execution_count": null,
   "id": "e9fb310d",
   "metadata": {},
   "outputs": [],
   "source": []
  },
  {
   "cell_type": "markdown",
   "id": "a16ca917",
   "metadata": {},
   "source": [
    "# Questions:"
   ]
  },
  {
   "cell_type": "markdown",
   "id": "44277ee7",
   "metadata": {},
   "source": [
    "## 5. At some point in 2019, the ability for students and alumni to access both curriculums (web dev to ds, ds to web dev) should have been shut off. Do you see any evidence of that happening? Did it happen before?"
   ]
  },
  {
   "cell_type": "code",
   "execution_count": null,
   "id": "0156261b",
   "metadata": {},
   "outputs": [],
   "source": []
  },
  {
   "cell_type": "markdown",
   "id": "a26b3c8f",
   "metadata": {},
   "source": [
    "## 6. What topics are grads continuing to reference after graduation and into their jobs (for each program)?"
   ]
  },
  {
   "cell_type": "code",
   "execution_count": 15,
   "id": "b392ce56",
   "metadata": {},
   "outputs": [
    {
     "data": {
      "text/plain": [
       "199834"
      ]
     },
     "execution_count": 15,
     "metadata": {},
     "output_type": "execute_result"
    }
   ],
   "source": [
    "df[df.date > df.end_date].shape[0]"
   ]
  },
  {
   "cell_type": "markdown",
   "id": "16fa497f",
   "metadata": {},
   "source": [
    "## 7. Which lessons are least accessed?"
   ]
  },
  {
   "cell_type": "code",
   "execution_count": null,
   "id": "b2c8a02d",
   "metadata": {},
   "outputs": [],
   "source": []
  },
  {
   "cell_type": "markdown",
   "id": "06996e01",
   "metadata": {},
   "source": [
    "## 8. Anything else I should be aware of?"
   ]
  },
  {
   "cell_type": "code",
   "execution_count": null,
   "id": "cade5d5c",
   "metadata": {},
   "outputs": [],
   "source": []
  }
 ],
 "metadata": {
  "kernelspec": {
   "display_name": "Python 3 (ipykernel)",
   "language": "python",
   "name": "python3"
  },
  "language_info": {
   "codemirror_mode": {
    "name": "ipython",
    "version": 3
   },
   "file_extension": ".py",
   "mimetype": "text/x-python",
   "name": "python",
   "nbconvert_exporter": "python",
   "pygments_lexer": "ipython3",
   "version": "3.9.7"
  }
 },
 "nbformat": 4,
 "nbformat_minor": 5
}
