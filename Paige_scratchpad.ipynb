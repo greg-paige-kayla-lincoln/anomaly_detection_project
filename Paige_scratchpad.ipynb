{
 "cells": [
  {
   "cell_type": "code",
   "execution_count": 1,
   "id": "2a2e4d73",
   "metadata": {},
   "outputs": [],
   "source": [
    "import numpy as np\n",
    "import pandas as pd\n",
    "import datetime as dt\n",
    "import math\n",
    "from sklearn import metrics\n",
    "\n",
    "import matplotlib.pyplot as plt\n",
    "import seaborn as sns \n",
    "\n",
    "import env\n",
    "from acquire import get_db_log_data\n",
    "from wrangle import wrangle_df"
   ]
  },
  {
   "cell_type": "code",
   "execution_count": 2,
   "id": "feed9655",
   "metadata": {},
   "outputs": [
    {
     "data": {
      "text/html": [
       "<div>\n",
       "<style scoped>\n",
       "    .dataframe tbody tr th:only-of-type {\n",
       "        vertical-align: middle;\n",
       "    }\n",
       "\n",
       "    .dataframe tbody tr th {\n",
       "        vertical-align: top;\n",
       "    }\n",
       "\n",
       "    .dataframe thead th {\n",
       "        text-align: right;\n",
       "    }\n",
       "</style>\n",
       "<table border=\"1\" class=\"dataframe\">\n",
       "  <thead>\n",
       "    <tr style=\"text-align: right;\">\n",
       "      <th></th>\n",
       "      <th>date</th>\n",
       "      <th>time</th>\n",
       "      <th>path</th>\n",
       "      <th>user_id</th>\n",
       "      <th>cohort_id</th>\n",
       "      <th>ip</th>\n",
       "      <th>id</th>\n",
       "      <th>name</th>\n",
       "      <th>slack</th>\n",
       "      <th>start_date</th>\n",
       "      <th>end_date</th>\n",
       "      <th>created_at</th>\n",
       "      <th>updated_at</th>\n",
       "      <th>deleted_at</th>\n",
       "      <th>program_id</th>\n",
       "    </tr>\n",
       "  </thead>\n",
       "  <tbody>\n",
       "    <tr>\n",
       "      <th>0</th>\n",
       "      <td>2018-01-26</td>\n",
       "      <td>09:55:03</td>\n",
       "      <td>/</td>\n",
       "      <td>1</td>\n",
       "      <td>8.0</td>\n",
       "      <td>97.105.19.61</td>\n",
       "      <td>8.0</td>\n",
       "      <td>Hampton</td>\n",
       "      <td>#hampton</td>\n",
       "      <td>2015-09-22</td>\n",
       "      <td>2016-02-06</td>\n",
       "      <td>2016-06-14 19:52:26</td>\n",
       "      <td>2016-06-14 19:52:26</td>\n",
       "      <td>NaN</td>\n",
       "      <td>1.0</td>\n",
       "    </tr>\n",
       "    <tr>\n",
       "      <th>1</th>\n",
       "      <td>2018-01-26</td>\n",
       "      <td>09:56:02</td>\n",
       "      <td>java-ii</td>\n",
       "      <td>1</td>\n",
       "      <td>8.0</td>\n",
       "      <td>97.105.19.61</td>\n",
       "      <td>8.0</td>\n",
       "      <td>Hampton</td>\n",
       "      <td>#hampton</td>\n",
       "      <td>2015-09-22</td>\n",
       "      <td>2016-02-06</td>\n",
       "      <td>2016-06-14 19:52:26</td>\n",
       "      <td>2016-06-14 19:52:26</td>\n",
       "      <td>NaN</td>\n",
       "      <td>1.0</td>\n",
       "    </tr>\n",
       "    <tr>\n",
       "      <th>2</th>\n",
       "      <td>2018-01-26</td>\n",
       "      <td>09:56:05</td>\n",
       "      <td>java-ii/object-oriented-programming</td>\n",
       "      <td>1</td>\n",
       "      <td>8.0</td>\n",
       "      <td>97.105.19.61</td>\n",
       "      <td>8.0</td>\n",
       "      <td>Hampton</td>\n",
       "      <td>#hampton</td>\n",
       "      <td>2015-09-22</td>\n",
       "      <td>2016-02-06</td>\n",
       "      <td>2016-06-14 19:52:26</td>\n",
       "      <td>2016-06-14 19:52:26</td>\n",
       "      <td>NaN</td>\n",
       "      <td>1.0</td>\n",
       "    </tr>\n",
       "    <tr>\n",
       "      <th>3</th>\n",
       "      <td>2018-01-26</td>\n",
       "      <td>09:56:06</td>\n",
       "      <td>slides/object_oriented_programming</td>\n",
       "      <td>1</td>\n",
       "      <td>8.0</td>\n",
       "      <td>97.105.19.61</td>\n",
       "      <td>8.0</td>\n",
       "      <td>Hampton</td>\n",
       "      <td>#hampton</td>\n",
       "      <td>2015-09-22</td>\n",
       "      <td>2016-02-06</td>\n",
       "      <td>2016-06-14 19:52:26</td>\n",
       "      <td>2016-06-14 19:52:26</td>\n",
       "      <td>NaN</td>\n",
       "      <td>1.0</td>\n",
       "    </tr>\n",
       "    <tr>\n",
       "      <th>4</th>\n",
       "      <td>2018-01-26</td>\n",
       "      <td>09:56:24</td>\n",
       "      <td>javascript-i/conditionals</td>\n",
       "      <td>2</td>\n",
       "      <td>22.0</td>\n",
       "      <td>97.105.19.61</td>\n",
       "      <td>22.0</td>\n",
       "      <td>Teddy</td>\n",
       "      <td>#teddy</td>\n",
       "      <td>2018-01-08</td>\n",
       "      <td>2018-05-17</td>\n",
       "      <td>2018-01-08 13:59:10</td>\n",
       "      <td>2018-01-08 13:59:10</td>\n",
       "      <td>NaN</td>\n",
       "      <td>2.0</td>\n",
       "    </tr>\n",
       "  </tbody>\n",
       "</table>\n",
       "</div>"
      ],
      "text/plain": [
       "         date      time                                 path  user_id  \\\n",
       "0  2018-01-26  09:55:03                                    /        1   \n",
       "1  2018-01-26  09:56:02                              java-ii        1   \n",
       "2  2018-01-26  09:56:05  java-ii/object-oriented-programming        1   \n",
       "3  2018-01-26  09:56:06   slides/object_oriented_programming        1   \n",
       "4  2018-01-26  09:56:24            javascript-i/conditionals        2   \n",
       "\n",
       "   cohort_id            ip    id     name     slack  start_date    end_date  \\\n",
       "0        8.0  97.105.19.61   8.0  Hampton  #hampton  2015-09-22  2016-02-06   \n",
       "1        8.0  97.105.19.61   8.0  Hampton  #hampton  2015-09-22  2016-02-06   \n",
       "2        8.0  97.105.19.61   8.0  Hampton  #hampton  2015-09-22  2016-02-06   \n",
       "3        8.0  97.105.19.61   8.0  Hampton  #hampton  2015-09-22  2016-02-06   \n",
       "4       22.0  97.105.19.61  22.0    Teddy    #teddy  2018-01-08  2018-05-17   \n",
       "\n",
       "            created_at           updated_at  deleted_at  program_id  \n",
       "0  2016-06-14 19:52:26  2016-06-14 19:52:26         NaN         1.0  \n",
       "1  2016-06-14 19:52:26  2016-06-14 19:52:26         NaN         1.0  \n",
       "2  2016-06-14 19:52:26  2016-06-14 19:52:26         NaN         1.0  \n",
       "3  2016-06-14 19:52:26  2016-06-14 19:52:26         NaN         1.0  \n",
       "4  2018-01-08 13:59:10  2018-01-08 13:59:10         NaN         2.0  "
      ]
     },
     "execution_count": 2,
     "metadata": {},
     "output_type": "execute_result"
    }
   ],
   "source": [
    "#Acquire\n",
    "df = get_db_log_data()\n",
    "df.head(5)"
   ]
  },
  {
   "cell_type": "code",
   "execution_count": 3,
   "id": "a61e2419",
   "metadata": {},
   "outputs": [
    {
     "data": {
      "text/html": [
       "<div>\n",
       "<style scoped>\n",
       "    .dataframe tbody tr th:only-of-type {\n",
       "        vertical-align: middle;\n",
       "    }\n",
       "\n",
       "    .dataframe tbody tr th {\n",
       "        vertical-align: top;\n",
       "    }\n",
       "\n",
       "    .dataframe thead th {\n",
       "        text-align: right;\n",
       "    }\n",
       "</style>\n",
       "<table border=\"1\" class=\"dataframe\">\n",
       "  <thead>\n",
       "    <tr style=\"text-align: right;\">\n",
       "      <th></th>\n",
       "      <th>date</th>\n",
       "      <th>time</th>\n",
       "      <th>path</th>\n",
       "      <th>user_id</th>\n",
       "      <th>cohort_id</th>\n",
       "      <th>ip</th>\n",
       "      <th>name</th>\n",
       "      <th>start_date</th>\n",
       "      <th>end_date</th>\n",
       "      <th>created_at</th>\n",
       "      <th>updated_at</th>\n",
       "      <th>program_id</th>\n",
       "    </tr>\n",
       "  </thead>\n",
       "  <tbody>\n",
       "    <tr>\n",
       "      <th>0</th>\n",
       "      <td>2018-01-26</td>\n",
       "      <td>2022-07-12 09:55:03</td>\n",
       "      <td>/</td>\n",
       "      <td>1</td>\n",
       "      <td>8.0</td>\n",
       "      <td>97.105.19.61</td>\n",
       "      <td>Hampton</td>\n",
       "      <td>2015-09-22</td>\n",
       "      <td>2016-02-06</td>\n",
       "      <td>2016-06-14 19:52:26</td>\n",
       "      <td>2016-06-14 19:52:26</td>\n",
       "      <td>full_stack_php</td>\n",
       "    </tr>\n",
       "    <tr>\n",
       "      <th>1</th>\n",
       "      <td>2018-01-26</td>\n",
       "      <td>2022-07-12 09:56:02</td>\n",
       "      <td>java-ii</td>\n",
       "      <td>1</td>\n",
       "      <td>8.0</td>\n",
       "      <td>97.105.19.61</td>\n",
       "      <td>Hampton</td>\n",
       "      <td>2015-09-22</td>\n",
       "      <td>2016-02-06</td>\n",
       "      <td>2016-06-14 19:52:26</td>\n",
       "      <td>2016-06-14 19:52:26</td>\n",
       "      <td>full_stack_php</td>\n",
       "    </tr>\n",
       "    <tr>\n",
       "      <th>2</th>\n",
       "      <td>2018-01-26</td>\n",
       "      <td>2022-07-12 09:56:05</td>\n",
       "      <td>java-ii/object-oriented-programming</td>\n",
       "      <td>1</td>\n",
       "      <td>8.0</td>\n",
       "      <td>97.105.19.61</td>\n",
       "      <td>Hampton</td>\n",
       "      <td>2015-09-22</td>\n",
       "      <td>2016-02-06</td>\n",
       "      <td>2016-06-14 19:52:26</td>\n",
       "      <td>2016-06-14 19:52:26</td>\n",
       "      <td>full_stack_php</td>\n",
       "    </tr>\n",
       "    <tr>\n",
       "      <th>3</th>\n",
       "      <td>2018-01-26</td>\n",
       "      <td>2022-07-12 09:56:06</td>\n",
       "      <td>slides/object_oriented_programming</td>\n",
       "      <td>1</td>\n",
       "      <td>8.0</td>\n",
       "      <td>97.105.19.61</td>\n",
       "      <td>Hampton</td>\n",
       "      <td>2015-09-22</td>\n",
       "      <td>2016-02-06</td>\n",
       "      <td>2016-06-14 19:52:26</td>\n",
       "      <td>2016-06-14 19:52:26</td>\n",
       "      <td>full_stack_php</td>\n",
       "    </tr>\n",
       "    <tr>\n",
       "      <th>4</th>\n",
       "      <td>2018-01-26</td>\n",
       "      <td>2022-07-12 09:56:24</td>\n",
       "      <td>javascript-i/conditionals</td>\n",
       "      <td>2</td>\n",
       "      <td>22.0</td>\n",
       "      <td>97.105.19.61</td>\n",
       "      <td>Teddy</td>\n",
       "      <td>2018-01-08</td>\n",
       "      <td>2018-05-17</td>\n",
       "      <td>2018-01-08 13:59:10</td>\n",
       "      <td>2018-01-08 13:59:10</td>\n",
       "      <td>full_stack_java</td>\n",
       "    </tr>\n",
       "  </tbody>\n",
       "</table>\n",
       "</div>"
      ],
      "text/plain": [
       "        date                time                                 path  \\\n",
       "0 2018-01-26 2022-07-12 09:55:03                                    /   \n",
       "1 2018-01-26 2022-07-12 09:56:02                              java-ii   \n",
       "2 2018-01-26 2022-07-12 09:56:05  java-ii/object-oriented-programming   \n",
       "3 2018-01-26 2022-07-12 09:56:06   slides/object_oriented_programming   \n",
       "4 2018-01-26 2022-07-12 09:56:24            javascript-i/conditionals   \n",
       "\n",
       "   user_id  cohort_id            ip     name start_date   end_date  \\\n",
       "0        1        8.0  97.105.19.61  Hampton 2015-09-22 2016-02-06   \n",
       "1        1        8.0  97.105.19.61  Hampton 2015-09-22 2016-02-06   \n",
       "2        1        8.0  97.105.19.61  Hampton 2015-09-22 2016-02-06   \n",
       "3        1        8.0  97.105.19.61  Hampton 2015-09-22 2016-02-06   \n",
       "4        2       22.0  97.105.19.61    Teddy 2018-01-08 2018-05-17   \n",
       "\n",
       "           created_at          updated_at       program_id  \n",
       "0 2016-06-14 19:52:26 2016-06-14 19:52:26   full_stack_php  \n",
       "1 2016-06-14 19:52:26 2016-06-14 19:52:26   full_stack_php  \n",
       "2 2016-06-14 19:52:26 2016-06-14 19:52:26   full_stack_php  \n",
       "3 2016-06-14 19:52:26 2016-06-14 19:52:26   full_stack_php  \n",
       "4 2018-01-08 13:59:10 2018-01-08 13:59:10  full_stack_java  "
      ]
     },
     "execution_count": 3,
     "metadata": {},
     "output_type": "execute_result"
    }
   ],
   "source": [
    "#prepare\n",
    "df = wrangle_df(df)\n",
    "df.head(5)"
   ]
  },
  {
   "cell_type": "code",
   "execution_count": 4,
   "id": "a0418081",
   "metadata": {},
   "outputs": [
    {
     "data": {
      "text/plain": [
       "12"
      ]
     },
     "execution_count": 4,
     "metadata": {},
     "output_type": "execute_result"
    }
   ],
   "source": [
    "df.shape[1]"
   ]
  },
  {
   "cell_type": "code",
   "execution_count": 5,
   "id": "69817e68",
   "metadata": {},
   "outputs": [],
   "source": [
    "first_date = dt.datetime(2018, 12, 31)\n",
    "second_date = dt.datetime(2020, 1, 1)\n",
    "\n",
    "log_2019 = df[(df.date > first_date) & (df.date < second_date)]"
   ]
  },
  {
   "cell_type": "code",
   "execution_count": 6,
   "id": "3ace639d",
   "metadata": {},
   "outputs": [
    {
     "data": {
      "image/png": "[encoded data removed]",
      "text/plain": [
       "<Figure size 360x360 with 1 Axes>"
      ]
     },
     "metadata": {
      "needs_background": "light"
     },
     "output_type": "display_data"
    }
   ],
   "source": [
    "sns.displot(data = log_2019, x = log_2019.date);"
   ]
  },
  {
   "cell_type": "code",
   "execution_count": 7,
   "id": "41f0f08a",
   "metadata": {},
   "outputs": [
    {
     "data": {
      "text/plain": [
       "array(['full_stack_php', 'full_stack_java', nan, 'front_end_programming',\n",
       "       'data_science'], dtype=object)"
      ]
     },
     "execution_count": 7,
     "metadata": {},
     "output_type": "execute_result"
    }
   ],
   "source": [
    "df.program_id.unique()"
   ]
  },
  {
   "cell_type": "code",
   "execution_count": 8,
   "id": "4cdeead8",
   "metadata": {},
   "outputs": [
    {
     "data": {
      "text/plain": [
       "0         False\n",
       "1         False\n",
       "2         False\n",
       "3         False\n",
       "4         False\n",
       "          ...  \n",
       "900218    False\n",
       "900219    False\n",
       "900220    False\n",
       "900221    False\n",
       "900222    False\n",
       "Name: program_id, Length: 900223, dtype: bool"
      ]
     },
     "execution_count": 8,
     "metadata": {},
     "output_type": "execute_result"
    }
   ],
   "source": [
    "df.program_id.isnull()"
   ]
  },
  {
   "cell_type": "code",
   "execution_count": 9,
   "id": "e2bbb759",
   "metadata": {},
   "outputs": [
    {
     "data": {
      "text/plain": [
       "full_stack_java          713365\n",
       "data_science             103412\n",
       "full_stack_php            30548\n",
       "front_end_programming         5\n",
       "Name: program_id, dtype: int64"
      ]
     },
     "execution_count": 9,
     "metadata": {},
     "output_type": "execute_result"
    }
   ],
   "source": [
    "df.program_id.value_counts()"
   ]
  },
  {
   "cell_type": "code",
   "execution_count": 21,
   "id": "467e4ae4",
   "metadata": {},
   "outputs": [
    {
     "data": {
      "text/html": [
       "<div>\n",
       "<style scoped>\n",
       "    .dataframe tbody tr th:only-of-type {\n",
       "        vertical-align: middle;\n",
       "    }\n",
       "\n",
       "    .dataframe tbody tr th {\n",
       "        vertical-align: top;\n",
       "    }\n",
       "\n",
       "    .dataframe thead th {\n",
       "        text-align: right;\n",
       "    }\n",
       "</style>\n",
       "<table border=\"1\" class=\"dataframe\">\n",
       "  <thead>\n",
       "    <tr style=\"text-align: right;\">\n",
       "      <th></th>\n",
       "      <th>date</th>\n",
       "      <th>time</th>\n",
       "      <th>path</th>\n",
       "      <th>user_id</th>\n",
       "      <th>cohort_id</th>\n",
       "      <th>ip</th>\n",
       "      <th>name</th>\n",
       "      <th>start_date</th>\n",
       "      <th>end_date</th>\n",
       "      <th>created_at</th>\n",
       "      <th>updated_at</th>\n",
       "      <th>program_id</th>\n",
       "    </tr>\n",
       "  </thead>\n",
       "  <tbody>\n",
       "    <tr>\n",
       "      <th>0</th>\n",
       "      <td>2018-01-26</td>\n",
       "      <td>2022-07-12 09:55:03</td>\n",
       "      <td>/</td>\n",
       "      <td>1</td>\n",
       "      <td>8.0</td>\n",
       "      <td>97.105.19.61</td>\n",
       "      <td>Hampton</td>\n",
       "      <td>2015-09-22</td>\n",
       "      <td>2016-02-06</td>\n",
       "      <td>2016-06-14 19:52:26</td>\n",
       "      <td>2016-06-14 19:52:26</td>\n",
       "      <td>full_stack_php</td>\n",
       "    </tr>\n",
       "    <tr>\n",
       "      <th>1</th>\n",
       "      <td>2018-01-26</td>\n",
       "      <td>2022-07-12 09:56:02</td>\n",
       "      <td>java-ii</td>\n",
       "      <td>1</td>\n",
       "      <td>8.0</td>\n",
       "      <td>97.105.19.61</td>\n",
       "      <td>Hampton</td>\n",
       "      <td>2015-09-22</td>\n",
       "      <td>2016-02-06</td>\n",
       "      <td>2016-06-14 19:52:26</td>\n",
       "      <td>2016-06-14 19:52:26</td>\n",
       "      <td>full_stack_php</td>\n",
       "    </tr>\n",
       "    <tr>\n",
       "      <th>2</th>\n",
       "      <td>2018-01-26</td>\n",
       "      <td>2022-07-12 09:56:05</td>\n",
       "      <td>java-ii/object-oriented-programming</td>\n",
       "      <td>1</td>\n",
       "      <td>8.0</td>\n",
       "      <td>97.105.19.61</td>\n",
       "      <td>Hampton</td>\n",
       "      <td>2015-09-22</td>\n",
       "      <td>2016-02-06</td>\n",
       "      <td>2016-06-14 19:52:26</td>\n",
       "      <td>2016-06-14 19:52:26</td>\n",
       "      <td>full_stack_php</td>\n",
       "    </tr>\n",
       "    <tr>\n",
       "      <th>3</th>\n",
       "      <td>2018-01-26</td>\n",
       "      <td>2022-07-12 09:56:06</td>\n",
       "      <td>slides/object_oriented_programming</td>\n",
       "      <td>1</td>\n",
       "      <td>8.0</td>\n",
       "      <td>97.105.19.61</td>\n",
       "      <td>Hampton</td>\n",
       "      <td>2015-09-22</td>\n",
       "      <td>2016-02-06</td>\n",
       "      <td>2016-06-14 19:52:26</td>\n",
       "      <td>2016-06-14 19:52:26</td>\n",
       "      <td>full_stack_php</td>\n",
       "    </tr>\n",
       "    <tr>\n",
       "      <th>4</th>\n",
       "      <td>2018-01-26</td>\n",
       "      <td>2022-07-12 09:56:24</td>\n",
       "      <td>javascript-i/conditionals</td>\n",
       "      <td>2</td>\n",
       "      <td>22.0</td>\n",
       "      <td>97.105.19.61</td>\n",
       "      <td>Teddy</td>\n",
       "      <td>2018-01-08</td>\n",
       "      <td>2018-05-17</td>\n",
       "      <td>2018-01-08 13:59:10</td>\n",
       "      <td>2018-01-08 13:59:10</td>\n",
       "      <td>full_stack_java</td>\n",
       "    </tr>\n",
       "  </tbody>\n",
       "</table>\n",
       "</div>"
      ],
      "text/plain": [
       "        date                time                                 path  \\\n",
       "0 2018-01-26 2022-07-12 09:55:03                                    /   \n",
       "1 2018-01-26 2022-07-12 09:56:02                              java-ii   \n",
       "2 2018-01-26 2022-07-12 09:56:05  java-ii/object-oriented-programming   \n",
       "3 2018-01-26 2022-07-12 09:56:06   slides/object_oriented_programming   \n",
       "4 2018-01-26 2022-07-12 09:56:24            javascript-i/conditionals   \n",
       "\n",
       "   user_id  cohort_id            ip     name start_date   end_date  \\\n",
       "0        1        8.0  97.105.19.61  Hampton 2015-09-22 2016-02-06   \n",
       "1        1        8.0  97.105.19.61  Hampton 2015-09-22 2016-02-06   \n",
       "2        1        8.0  97.105.19.61  Hampton 2015-09-22 2016-02-06   \n",
       "3        1        8.0  97.105.19.61  Hampton 2015-09-22 2016-02-06   \n",
       "4        2       22.0  97.105.19.61    Teddy 2018-01-08 2018-05-17   \n",
       "\n",
       "           created_at          updated_at       program_id  \n",
       "0 2016-06-14 19:52:26 2016-06-14 19:52:26   full_stack_php  \n",
       "1 2016-06-14 19:52:26 2016-06-14 19:52:26   full_stack_php  \n",
       "2 2016-06-14 19:52:26 2016-06-14 19:52:26   full_stack_php  \n",
       "3 2016-06-14 19:52:26 2016-06-14 19:52:26   full_stack_php  \n",
       "4 2018-01-08 13:59:10 2018-01-08 13:59:10  full_stack_java  "
      ]
     },
     "execution_count": 21,
     "metadata": {},
     "output_type": "execute_result"
    }
   ],
   "source": [
    "# Splitting the program ids into own dfs\n",
    "web_dev = df[(df.program_id == 'full_stack_java') | (df.program_id == 'full_stack_php') | (df.program_id == 'front_end_programming')]\n",
    "web_dev.head()"
   ]
  },
  {
   "cell_type": "code",
   "execution_count": 17,
   "id": "2d0b0a8a",
   "metadata": {},
   "outputs": [
    {
     "data": {
      "text/html": [
       "<div>\n",
       "<style scoped>\n",
       "    .dataframe tbody tr th:only-of-type {\n",
       "        vertical-align: middle;\n",
       "    }\n",
       "\n",
       "    .dataframe tbody tr th {\n",
       "        vertical-align: top;\n",
       "    }\n",
       "\n",
       "    .dataframe thead th {\n",
       "        text-align: right;\n",
       "    }\n",
       "</style>\n",
       "<table border=\"1\" class=\"dataframe\">\n",
       "  <thead>\n",
       "    <tr style=\"text-align: right;\">\n",
       "      <th></th>\n",
       "      <th>date</th>\n",
       "      <th>time</th>\n",
       "      <th>path</th>\n",
       "      <th>user_id</th>\n",
       "      <th>cohort_id</th>\n",
       "      <th>ip</th>\n",
       "      <th>name</th>\n",
       "      <th>start_date</th>\n",
       "      <th>end_date</th>\n",
       "      <th>created_at</th>\n",
       "      <th>updated_at</th>\n",
       "      <th>program_id</th>\n",
       "    </tr>\n",
       "  </thead>\n",
       "  <tbody>\n",
       "    <tr>\n",
       "      <th>326053</th>\n",
       "      <td>2019-08-20</td>\n",
       "      <td>2022-07-12 09:39:58</td>\n",
       "      <td>/</td>\n",
       "      <td>466</td>\n",
       "      <td>34.0</td>\n",
       "      <td>97.105.19.58</td>\n",
       "      <td>Bayes</td>\n",
       "      <td>2019-08-19</td>\n",
       "      <td>2020-01-30</td>\n",
       "      <td>2019-08-20 14:38:55</td>\n",
       "      <td>2019-08-20 14:38:55</td>\n",
       "      <td>data_science</td>\n",
       "    </tr>\n",
       "    <tr>\n",
       "      <th>326054</th>\n",
       "      <td>2019-08-20</td>\n",
       "      <td>2022-07-12 09:39:59</td>\n",
       "      <td>/</td>\n",
       "      <td>467</td>\n",
       "      <td>34.0</td>\n",
       "      <td>97.105.19.58</td>\n",
       "      <td>Bayes</td>\n",
       "      <td>2019-08-19</td>\n",
       "      <td>2020-01-30</td>\n",
       "      <td>2019-08-20 14:38:55</td>\n",
       "      <td>2019-08-20 14:38:55</td>\n",
       "      <td>data_science</td>\n",
       "    </tr>\n",
       "    <tr>\n",
       "      <th>326055</th>\n",
       "      <td>2019-08-20</td>\n",
       "      <td>2022-07-12 09:39:59</td>\n",
       "      <td>/</td>\n",
       "      <td>468</td>\n",
       "      <td>34.0</td>\n",
       "      <td>97.105.19.58</td>\n",
       "      <td>Bayes</td>\n",
       "      <td>2019-08-19</td>\n",
       "      <td>2020-01-30</td>\n",
       "      <td>2019-08-20 14:38:55</td>\n",
       "      <td>2019-08-20 14:38:55</td>\n",
       "      <td>data_science</td>\n",
       "    </tr>\n",
       "    <tr>\n",
       "      <th>326056</th>\n",
       "      <td>2019-08-20</td>\n",
       "      <td>2022-07-12 09:40:02</td>\n",
       "      <td>/</td>\n",
       "      <td>469</td>\n",
       "      <td>34.0</td>\n",
       "      <td>97.105.19.58</td>\n",
       "      <td>Bayes</td>\n",
       "      <td>2019-08-19</td>\n",
       "      <td>2020-01-30</td>\n",
       "      <td>2019-08-20 14:38:55</td>\n",
       "      <td>2019-08-20 14:38:55</td>\n",
       "      <td>data_science</td>\n",
       "    </tr>\n",
       "    <tr>\n",
       "      <th>326057</th>\n",
       "      <td>2019-08-20</td>\n",
       "      <td>2022-07-12 09:40:08</td>\n",
       "      <td>/</td>\n",
       "      <td>470</td>\n",
       "      <td>34.0</td>\n",
       "      <td>97.105.19.58</td>\n",
       "      <td>Bayes</td>\n",
       "      <td>2019-08-19</td>\n",
       "      <td>2020-01-30</td>\n",
       "      <td>2019-08-20 14:38:55</td>\n",
       "      <td>2019-08-20 14:38:55</td>\n",
       "      <td>data_science</td>\n",
       "    </tr>\n",
       "  </tbody>\n",
       "</table>\n",
       "</div>"
      ],
      "text/plain": [
       "             date                time path  user_id  cohort_id            ip  \\\n",
       "326053 2019-08-20 2022-07-12 09:39:58    /      466       34.0  97.105.19.58   \n",
       "326054 2019-08-20 2022-07-12 09:39:59    /      467       34.0  97.105.19.58   \n",
       "326055 2019-08-20 2022-07-12 09:39:59    /      468       34.0  97.105.19.58   \n",
       "326056 2019-08-20 2022-07-12 09:40:02    /      469       34.0  97.105.19.58   \n",
       "326057 2019-08-20 2022-07-12 09:40:08    /      470       34.0  97.105.19.58   \n",
       "\n",
       "         name start_date   end_date          created_at          updated_at  \\\n",
       "326053  Bayes 2019-08-19 2020-01-30 2019-08-20 14:38:55 2019-08-20 14:38:55   \n",
       "326054  Bayes 2019-08-19 2020-01-30 2019-08-20 14:38:55 2019-08-20 14:38:55   \n",
       "326055  Bayes 2019-08-19 2020-01-30 2019-08-20 14:38:55 2019-08-20 14:38:55   \n",
       "326056  Bayes 2019-08-19 2020-01-30 2019-08-20 14:38:55 2019-08-20 14:38:55   \n",
       "326057  Bayes 2019-08-19 2020-01-30 2019-08-20 14:38:55 2019-08-20 14:38:55   \n",
       "\n",
       "          program_id  \n",
       "326053  data_science  \n",
       "326054  data_science  \n",
       "326055  data_science  \n",
       "326056  data_science  \n",
       "326057  data_science  "
      ]
     },
     "execution_count": 17,
     "metadata": {},
     "output_type": "execute_result"
    }
   ],
   "source": [
    "ds = df[df.program_id == 'data_science']\n",
    "ds.head()"
   ]
  },
  {
   "cell_type": "code",
   "execution_count": 54,
   "id": "adfb3e3b",
   "metadata": {},
   "outputs": [
    {
     "data": {
      "text/plain": [
       "28.0     84031\n",
       "33.0     40730\n",
       "29.0     38096\n",
       "62.0     37109\n",
       "53.0     36902\n",
       "24.0     35636\n",
       "57.0     33844\n",
       "56.0     33568\n",
       "51.0     32888\n",
       "59.0     32015\n",
       "22.0     30926\n",
       "58.0     29855\n",
       "32.0     29356\n",
       "23.0     28534\n",
       "52.0     28033\n",
       "26.0     27749\n",
       "34.0     26538\n",
       "25.0     25586\n",
       "31.0     25359\n",
       "132.0    23691\n",
       "55.0     21582\n",
       "27.0     20743\n",
       "61.0     17713\n",
       "134.0    16623\n",
       "135.0    16397\n",
       "133.0    14715\n",
       "14.0      9587\n",
       "1.0       8890\n",
       "137.0     8562\n",
       "21.0      7444\n",
       "138.0     7276\n",
       "17.0      4954\n",
       "13.0      2845\n",
       "18.0      2158\n",
       "8.0       1712\n",
       "139.0     1672\n",
       "19.0      1237\n",
       "16.0       755\n",
       "15.0       691\n",
       "7.0        598\n",
       "12.0       302\n",
       "11.0       253\n",
       "2.0         93\n",
       "6.0         72\n",
       "9.0          5\n",
       "4.0          4\n",
       "5.0          1\n",
       "Name: cohort_id, dtype: int64"
      ]
     },
     "execution_count": 54,
     "metadata": {},
     "output_type": "execute_result"
    }
   ],
   "source": [
    "df.cohort_id.value_counts()"
   ]
  },
  {
   "cell_type": "code",
   "execution_count": 36,
   "id": "c513596e",
   "metadata": {},
   "outputs": [
    {
     "data": {
      "text/plain": [
       "59.0     32015\n",
       "34.0     26538\n",
       "55.0     21582\n",
       "133.0    14715\n",
       "137.0     8562\n",
       "Name: cohort_id, dtype: int64"
      ]
     },
     "execution_count": 36,
     "metadata": {},
     "output_type": "execute_result"
    }
   ],
   "source": [
    "ds.cohort_id.value_counts()"
   ]
  },
  {
   "cell_type": "code",
   "execution_count": 40,
   "id": "2b01f83a",
   "metadata": {},
   "outputs": [
    {
     "data": {
      "text/html": [
       "<div>\n",
       "<style scoped>\n",
       "    .dataframe tbody tr th:only-of-type {\n",
       "        vertical-align: middle;\n",
       "    }\n",
       "\n",
       "    .dataframe tbody tr th {\n",
       "        vertical-align: top;\n",
       "    }\n",
       "\n",
       "    .dataframe thead th {\n",
       "        text-align: right;\n",
       "    }\n",
       "</style>\n",
       "<table border=\"1\" class=\"dataframe\">\n",
       "  <thead>\n",
       "    <tr style=\"text-align: right;\">\n",
       "      <th></th>\n",
       "      <th>date</th>\n",
       "      <th>time</th>\n",
       "      <th>path</th>\n",
       "      <th>user_id</th>\n",
       "      <th>cohort_id</th>\n",
       "      <th>ip</th>\n",
       "      <th>name</th>\n",
       "      <th>start_date</th>\n",
       "      <th>end_date</th>\n",
       "      <th>created_at</th>\n",
       "      <th>updated_at</th>\n",
       "      <th>program_id</th>\n",
       "    </tr>\n",
       "  </thead>\n",
       "  <tbody>\n",
       "    <tr>\n",
       "      <th>326053</th>\n",
       "      <td>2019-08-20</td>\n",
       "      <td>2022-07-12 09:39:58</td>\n",
       "      <td>/</td>\n",
       "      <td>466</td>\n",
       "      <td>34.0</td>\n",
       "      <td>97.105.19.58</td>\n",
       "      <td>Bayes</td>\n",
       "      <td>2019-08-19</td>\n",
       "      <td>2020-01-30</td>\n",
       "      <td>2019-08-20 14:38:55</td>\n",
       "      <td>2019-08-20 14:38:55</td>\n",
       "      <td>data_science</td>\n",
       "    </tr>\n",
       "    <tr>\n",
       "      <th>326054</th>\n",
       "      <td>2019-08-20</td>\n",
       "      <td>2022-07-12 09:39:59</td>\n",
       "      <td>/</td>\n",
       "      <td>467</td>\n",
       "      <td>34.0</td>\n",
       "      <td>97.105.19.58</td>\n",
       "      <td>Bayes</td>\n",
       "      <td>2019-08-19</td>\n",
       "      <td>2020-01-30</td>\n",
       "      <td>2019-08-20 14:38:55</td>\n",
       "      <td>2019-08-20 14:38:55</td>\n",
       "      <td>data_science</td>\n",
       "    </tr>\n",
       "    <tr>\n",
       "      <th>326055</th>\n",
       "      <td>2019-08-20</td>\n",
       "      <td>2022-07-12 09:39:59</td>\n",
       "      <td>/</td>\n",
       "      <td>468</td>\n",
       "      <td>34.0</td>\n",
       "      <td>97.105.19.58</td>\n",
       "      <td>Bayes</td>\n",
       "      <td>2019-08-19</td>\n",
       "      <td>2020-01-30</td>\n",
       "      <td>2019-08-20 14:38:55</td>\n",
       "      <td>2019-08-20 14:38:55</td>\n",
       "      <td>data_science</td>\n",
       "    </tr>\n",
       "    <tr>\n",
       "      <th>326056</th>\n",
       "      <td>2019-08-20</td>\n",
       "      <td>2022-07-12 09:40:02</td>\n",
       "      <td>/</td>\n",
       "      <td>469</td>\n",
       "      <td>34.0</td>\n",
       "      <td>97.105.19.58</td>\n",
       "      <td>Bayes</td>\n",
       "      <td>2019-08-19</td>\n",
       "      <td>2020-01-30</td>\n",
       "      <td>2019-08-20 14:38:55</td>\n",
       "      <td>2019-08-20 14:38:55</td>\n",
       "      <td>data_science</td>\n",
       "    </tr>\n",
       "    <tr>\n",
       "      <th>326057</th>\n",
       "      <td>2019-08-20</td>\n",
       "      <td>2022-07-12 09:40:08</td>\n",
       "      <td>/</td>\n",
       "      <td>470</td>\n",
       "      <td>34.0</td>\n",
       "      <td>97.105.19.58</td>\n",
       "      <td>Bayes</td>\n",
       "      <td>2019-08-19</td>\n",
       "      <td>2020-01-30</td>\n",
       "      <td>2019-08-20 14:38:55</td>\n",
       "      <td>2019-08-20 14:38:55</td>\n",
       "      <td>data_science</td>\n",
       "    </tr>\n",
       "  </tbody>\n",
       "</table>\n",
       "</div>"
      ],
      "text/plain": [
       "             date                time path  user_id  cohort_id            ip  \\\n",
       "326053 2019-08-20 2022-07-12 09:39:58    /      466       34.0  97.105.19.58   \n",
       "326054 2019-08-20 2022-07-12 09:39:59    /      467       34.0  97.105.19.58   \n",
       "326055 2019-08-20 2022-07-12 09:39:59    /      468       34.0  97.105.19.58   \n",
       "326056 2019-08-20 2022-07-12 09:40:02    /      469       34.0  97.105.19.58   \n",
       "326057 2019-08-20 2022-07-12 09:40:08    /      470       34.0  97.105.19.58   \n",
       "\n",
       "         name start_date   end_date          created_at          updated_at  \\\n",
       "326053  Bayes 2019-08-19 2020-01-30 2019-08-20 14:38:55 2019-08-20 14:38:55   \n",
       "326054  Bayes 2019-08-19 2020-01-30 2019-08-20 14:38:55 2019-08-20 14:38:55   \n",
       "326055  Bayes 2019-08-19 2020-01-30 2019-08-20 14:38:55 2019-08-20 14:38:55   \n",
       "326056  Bayes 2019-08-19 2020-01-30 2019-08-20 14:38:55 2019-08-20 14:38:55   \n",
       "326057  Bayes 2019-08-19 2020-01-30 2019-08-20 14:38:55 2019-08-20 14:38:55   \n",
       "\n",
       "          program_id  \n",
       "326053  data_science  \n",
       "326054  data_science  \n",
       "326055  data_science  \n",
       "326056  data_science  \n",
       "326057  data_science  "
      ]
     },
     "execution_count": 40,
     "metadata": {},
     "output_type": "execute_result"
    }
   ],
   "source": [
    "# Create df by DS cohort\n",
    "ds_cohort = df[(df.cohort_id == 59.0) | (df.cohort_id == 34.0) | (df.cohort_id == 55.0) | (df.cohort_id == 133.0) | (df.cohort_id == 137.0)]\n",
    "ds_cohort.head()"
   ]
  },
  {
   "cell_type": "markdown",
   "id": "bb70947d",
   "metadata": {},
   "source": [
    "5. At some point in 2019, the ability for students and alumni to access both curriculums (web dev to ds, ds to web dev) should have been shut off. Do you see any evidence of that happening? Did it happen before?"
   ]
  },
  {
   "cell_type": "markdown",
   "id": "a2401d86",
   "metadata": {},
   "source": [
    "6. What topics are grads continuing to reference after graduation and into their jobs (for each program)?"
   ]
  },
  {
   "cell_type": "code",
   "execution_count": 26,
   "id": "73965be5",
   "metadata": {
    "scrolled": true
   },
   "outputs": [
    {
     "data": {
      "text/html": [
       "<div>\n",
       "<style scoped>\n",
       "    .dataframe tbody tr th:only-of-type {\n",
       "        vertical-align: middle;\n",
       "    }\n",
       "\n",
       "    .dataframe tbody tr th {\n",
       "        vertical-align: top;\n",
       "    }\n",
       "\n",
       "    .dataframe thead th {\n",
       "        text-align: right;\n",
       "    }\n",
       "</style>\n",
       "<table border=\"1\" class=\"dataframe\">\n",
       "  <thead>\n",
       "    <tr style=\"text-align: right;\">\n",
       "      <th></th>\n",
       "      <th>date</th>\n",
       "      <th>time</th>\n",
       "      <th>path</th>\n",
       "      <th>user_id</th>\n",
       "      <th>cohort_id</th>\n",
       "      <th>ip</th>\n",
       "      <th>name</th>\n",
       "      <th>start_date</th>\n",
       "      <th>end_date</th>\n",
       "      <th>created_at</th>\n",
       "      <th>updated_at</th>\n",
       "      <th>program_id</th>\n",
       "    </tr>\n",
       "  </thead>\n",
       "  <tbody>\n",
       "    <tr>\n",
       "      <th>0</th>\n",
       "      <td>2018-01-26</td>\n",
       "      <td>2022-07-12 09:55:03</td>\n",
       "      <td>/</td>\n",
       "      <td>1</td>\n",
       "      <td>8.0</td>\n",
       "      <td>97.105.19.61</td>\n",
       "      <td>Hampton</td>\n",
       "      <td>2015-09-22</td>\n",
       "      <td>2016-02-06</td>\n",
       "      <td>2016-06-14 19:52:26</td>\n",
       "      <td>2016-06-14 19:52:26</td>\n",
       "      <td>full_stack_php</td>\n",
       "    </tr>\n",
       "    <tr>\n",
       "      <th>1</th>\n",
       "      <td>2018-01-26</td>\n",
       "      <td>2022-07-12 09:56:02</td>\n",
       "      <td>java-ii</td>\n",
       "      <td>1</td>\n",
       "      <td>8.0</td>\n",
       "      <td>97.105.19.61</td>\n",
       "      <td>Hampton</td>\n",
       "      <td>2015-09-22</td>\n",
       "      <td>2016-02-06</td>\n",
       "      <td>2016-06-14 19:52:26</td>\n",
       "      <td>2016-06-14 19:52:26</td>\n",
       "      <td>full_stack_php</td>\n",
       "    </tr>\n",
       "    <tr>\n",
       "      <th>2</th>\n",
       "      <td>2018-01-26</td>\n",
       "      <td>2022-07-12 09:56:05</td>\n",
       "      <td>java-ii/object-oriented-programming</td>\n",
       "      <td>1</td>\n",
       "      <td>8.0</td>\n",
       "      <td>97.105.19.61</td>\n",
       "      <td>Hampton</td>\n",
       "      <td>2015-09-22</td>\n",
       "      <td>2016-02-06</td>\n",
       "      <td>2016-06-14 19:52:26</td>\n",
       "      <td>2016-06-14 19:52:26</td>\n",
       "      <td>full_stack_php</td>\n",
       "    </tr>\n",
       "    <tr>\n",
       "      <th>3</th>\n",
       "      <td>2018-01-26</td>\n",
       "      <td>2022-07-12 09:56:06</td>\n",
       "      <td>slides/object_oriented_programming</td>\n",
       "      <td>1</td>\n",
       "      <td>8.0</td>\n",
       "      <td>97.105.19.61</td>\n",
       "      <td>Hampton</td>\n",
       "      <td>2015-09-22</td>\n",
       "      <td>2016-02-06</td>\n",
       "      <td>2016-06-14 19:52:26</td>\n",
       "      <td>2016-06-14 19:52:26</td>\n",
       "      <td>full_stack_php</td>\n",
       "    </tr>\n",
       "    <tr>\n",
       "      <th>30</th>\n",
       "      <td>2018-01-26</td>\n",
       "      <td>2022-07-12 10:14:47</td>\n",
       "      <td>/</td>\n",
       "      <td>11</td>\n",
       "      <td>1.0</td>\n",
       "      <td>97.105.19.61</td>\n",
       "      <td>Arches</td>\n",
       "      <td>2014-02-04</td>\n",
       "      <td>2014-04-22</td>\n",
       "      <td>2016-06-14 19:52:26</td>\n",
       "      <td>2016-06-14 19:52:26</td>\n",
       "      <td>full_stack_php</td>\n",
       "    </tr>\n",
       "  </tbody>\n",
       "</table>\n",
       "</div>"
      ],
      "text/plain": [
       "         date                time                                 path  \\\n",
       "0  2018-01-26 2022-07-12 09:55:03                                    /   \n",
       "1  2018-01-26 2022-07-12 09:56:02                              java-ii   \n",
       "2  2018-01-26 2022-07-12 09:56:05  java-ii/object-oriented-programming   \n",
       "3  2018-01-26 2022-07-12 09:56:06   slides/object_oriented_programming   \n",
       "30 2018-01-26 2022-07-12 10:14:47                                    /   \n",
       "\n",
       "    user_id  cohort_id            ip     name start_date   end_date  \\\n",
       "0         1        8.0  97.105.19.61  Hampton 2015-09-22 2016-02-06   \n",
       "1         1        8.0  97.105.19.61  Hampton 2015-09-22 2016-02-06   \n",
       "2         1        8.0  97.105.19.61  Hampton 2015-09-22 2016-02-06   \n",
       "3         1        8.0  97.105.19.61  Hampton 2015-09-22 2016-02-06   \n",
       "30       11        1.0  97.105.19.61   Arches 2014-02-04 2014-04-22   \n",
       "\n",
       "            created_at          updated_at      program_id  \n",
       "0  2016-06-14 19:52:26 2016-06-14 19:52:26  full_stack_php  \n",
       "1  2016-06-14 19:52:26 2016-06-14 19:52:26  full_stack_php  \n",
       "2  2016-06-14 19:52:26 2016-06-14 19:52:26  full_stack_php  \n",
       "3  2016-06-14 19:52:26 2016-06-14 19:52:26  full_stack_php  \n",
       "30 2016-06-14 19:52:26 2016-06-14 19:52:26  full_stack_php  "
      ]
     },
     "execution_count": 26,
     "metadata": {},
     "output_type": "execute_result"
    }
   ],
   "source": [
    "# active after graduation\n",
    "active_grad = df[(df.date > df.end_date)]\n",
    "active_grad.head()"
   ]
  },
  {
   "cell_type": "code",
   "execution_count": null,
   "id": "59ff5ec5",
   "metadata": {},
   "outputs": [],
   "source": [
    "webs_or_data = df"
   ]
  },
  {
   "cell_type": "code",
   "execution_count": null,
   "id": "1c2a52f6",
   "metadata": {},
   "outputs": [],
   "source": [
    "#.path.value_counts().head(5)"
   ]
  },
  {
   "cell_type": "markdown",
   "id": "7a689afc",
   "metadata": {},
   "source": [
    "7. Which lessons are least accessed?"
   ]
  },
  {
   "cell_type": "markdown",
   "id": "75c8ef3e",
   "metadata": {},
   "source": [
    "Questions: What are we trying to answer here? Overall least accessed? By program? By cohort? All?"
   ]
  },
  {
   "cell_type": "markdown",
   "id": "4ff61549",
   "metadata": {},
   "source": [
    "### By Program"
   ]
  },
  {
   "cell_type": "code",
   "execution_count": 50,
   "id": "9e827b86",
   "metadata": {},
   "outputs": [
    {
     "data": {
      "text/plain": [
       "307"
      ]
     },
     "execution_count": 50,
     "metadata": {},
     "output_type": "execute_result"
    }
   ],
   "source": [
    "plot_web = web_dev.groupby('path').filter(lambda x : len(x)>100)\n",
    "plot_web.path.nunique()"
   ]
  },
  {
   "cell_type": "code",
   "execution_count": 51,
   "id": "5d0ca962",
   "metadata": {},
   "outputs": [
    {
     "data": {
      "image/png": "[encoded data removed]",
      "text/plain": [
       "<Figure size 432x288 with 1 Axes>"
      ]
     },
     "metadata": {
      "needs_background": "light"
     },
     "output_type": "display_data"
    }
   ],
   "source": [
    "plot_web['path'].value_counts().head(5).plot(kind='bar')\n",
    "plt.title('Which lessons are least accessed by Web Dev students?')\n",
    "plt.show()"
   ]
  },
  {
   "cell_type": "code",
   "execution_count": 22,
   "id": "44bdeb20",
   "metadata": {},
   "outputs": [
    {
     "data": {
      "text/plain": [
       "4-stats/2.7-correlation                                         1\n",
       "4-python/error-handling                                         1\n",
       "10-anomaly-detection/isolation-forests                          1\n",
       "10-anomaly-detection/time-series-anomaly-detection-part-3       1\n",
       "appendix/professional-development/post-interview-review-form    1\n",
       "Name: path, dtype: int64"
      ]
     },
     "execution_count": 22,
     "metadata": {},
     "output_type": "execute_result"
    }
   ],
   "source": [
    "web_dev.path.value_counts().tail(5)"
   ]
  },
  {
   "cell_type": "code",
   "execution_count": 46,
   "id": "c32767c5",
   "metadata": {},
   "outputs": [
    {
     "data": {
      "text/plain": [
       "263"
      ]
     },
     "execution_count": 46,
     "metadata": {},
     "output_type": "execute_result"
    }
   ],
   "source": [
    "plot_ds = ds.groupby('path').filter(lambda x : len(x)>100)\n",
    "plot_ds.path.nunique()"
   ]
  },
  {
   "cell_type": "code",
   "execution_count": 49,
   "id": "762474a4",
   "metadata": {},
   "outputs": [
    {
     "data": {
      "image/png": "[encoded data removed]",
      "text/plain": [
       "<Figure size 432x288 with 1 Axes>"
      ]
     },
     "metadata": {
      "needs_background": "light"
     },
     "output_type": "display_data"
    }
   ],
   "source": [
    "plot_ds['path'].value_counts().head(5).plot(kind='bar')\n",
    "plt.title('Which lessons are least accessed by Data Science students?')\n",
    "plt.show()"
   ]
  },
  {
   "cell_type": "code",
   "execution_count": 23,
   "id": "5ce5da16",
   "metadata": {},
   "outputs": [
    {
     "data": {
      "text/plain": [
       "python/custom-sorting-functions            1\n",
       "imports                                    1\n",
       "java-i/console-io                          1\n",
       "appendix/univariate_regression_in_excel    1\n",
       "6-regression/8-Project                     1\n",
       "Name: path, dtype: int64"
      ]
     },
     "execution_count": 23,
     "metadata": {},
     "output_type": "execute_result"
    }
   ],
   "source": [
    "ds.path.value_counts().tail(5)"
   ]
  },
  {
   "cell_type": "markdown",
   "id": "b6476baa",
   "metadata": {},
   "source": [
    "## Answer: There are a lot of paths that were only accessed a total of 1 time, so I decided to just show 5 of those for each program."
   ]
  },
  {
   "cell_type": "markdown",
   "id": "6694e716",
   "metadata": {},
   "source": [
    "### By Cohort"
   ]
  },
  {
   "cell_type": "code",
   "execution_count": null,
   "id": "a405f3e6",
   "metadata": {},
   "outputs": [],
   "source": []
  },
  {
   "cell_type": "markdown",
   "id": "8b6783d8",
   "metadata": {},
   "source": [
    "8. Anything else I should be aware of?"
   ]
  },
  {
   "cell_type": "code",
   "execution_count": null,
   "id": "10a8f896",
   "metadata": {},
   "outputs": [],
   "source": []
  }
 ],
 "metadata": {
  "kernelspec": {
   "display_name": "Python 3 (ipykernel)",
   "language": "python",
   "name": "python3"
  },
  "language_info": {
   "codemirror_mode": {
    "name": "ipython",
    "version": 3
   },
   "file_extension": ".py",
   "mimetype": "text/x-python",
   "name": "python",
   "nbconvert_exporter": "python",
   "pygments_lexer": "ipython3",
   "version": "3.9.7"
  }
 },
 "nbformat": 4,
 "nbformat_minor": 5
}
