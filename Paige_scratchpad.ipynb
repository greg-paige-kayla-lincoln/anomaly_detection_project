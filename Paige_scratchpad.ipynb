{
 "cells": [
  {
   "cell_type": "code",
   "execution_count": 11,
   "id": "2a2e4d73",
   "metadata": {},
   "outputs": [],
   "source": [
    "import numpy as np\n",
    "import pandas as pd\n",
    "import math\n",
    "from sklearn import metrics\n",
    "\n",
    "\n",
    "import env\n",
    "from acquire import get_db_log_data\n",
    "from wrangle import wrangle_df"
   ]
  },
  {
   "cell_type": "code",
   "execution_count": 4,
   "id": "feed9655",
   "metadata": {},
   "outputs": [
    {
     "data": {
      "text/html": [
       "<div>\n",
       "<style scoped>\n",
       "    .dataframe tbody tr th:only-of-type {\n",
       "        vertical-align: middle;\n",
       "    }\n",
       "\n",
       "    .dataframe tbody tr th {\n",
       "        vertical-align: top;\n",
       "    }\n",
       "\n",
       "    .dataframe thead th {\n",
       "        text-align: right;\n",
       "    }\n",
       "</style>\n",
       "<table border=\"1\" class=\"dataframe\">\n",
       "  <thead>\n",
       "    <tr style=\"text-align: right;\">\n",
       "      <th></th>\n",
       "      <th>date</th>\n",
       "      <th>time</th>\n",
       "      <th>path</th>\n",
       "      <th>user_id</th>\n",
       "      <th>cohort_id</th>\n",
       "      <th>ip</th>\n",
       "      <th>id</th>\n",
       "      <th>name</th>\n",
       "      <th>slack</th>\n",
       "      <th>start_date</th>\n",
       "      <th>end_date</th>\n",
       "      <th>created_at</th>\n",
       "      <th>updated_at</th>\n",
       "      <th>deleted_at</th>\n",
       "      <th>program_id</th>\n",
       "    </tr>\n",
       "  </thead>\n",
       "  <tbody>\n",
       "    <tr>\n",
       "      <th>0</th>\n",
       "      <td>2018-01-26</td>\n",
       "      <td>09:55:03</td>\n",
       "      <td>/</td>\n",
       "      <td>1</td>\n",
       "      <td>8.0</td>\n",
       "      <td>97.105.19.61</td>\n",
       "      <td>8.0</td>\n",
       "      <td>Hampton</td>\n",
       "      <td>#hampton</td>\n",
       "      <td>2015-09-22</td>\n",
       "      <td>2016-02-06</td>\n",
       "      <td>2016-06-14 19:52:26</td>\n",
       "      <td>2016-06-14 19:52:26</td>\n",
       "      <td>NaN</td>\n",
       "      <td>1.0</td>\n",
       "    </tr>\n",
       "    <tr>\n",
       "      <th>1</th>\n",
       "      <td>2018-01-26</td>\n",
       "      <td>09:56:02</td>\n",
       "      <td>java-ii</td>\n",
       "      <td>1</td>\n",
       "      <td>8.0</td>\n",
       "      <td>97.105.19.61</td>\n",
       "      <td>8.0</td>\n",
       "      <td>Hampton</td>\n",
       "      <td>#hampton</td>\n",
       "      <td>2015-09-22</td>\n",
       "      <td>2016-02-06</td>\n",
       "      <td>2016-06-14 19:52:26</td>\n",
       "      <td>2016-06-14 19:52:26</td>\n",
       "      <td>NaN</td>\n",
       "      <td>1.0</td>\n",
       "    </tr>\n",
       "    <tr>\n",
       "      <th>2</th>\n",
       "      <td>2018-01-26</td>\n",
       "      <td>09:56:05</td>\n",
       "      <td>java-ii/object-oriented-programming</td>\n",
       "      <td>1</td>\n",
       "      <td>8.0</td>\n",
       "      <td>97.105.19.61</td>\n",
       "      <td>8.0</td>\n",
       "      <td>Hampton</td>\n",
       "      <td>#hampton</td>\n",
       "      <td>2015-09-22</td>\n",
       "      <td>2016-02-06</td>\n",
       "      <td>2016-06-14 19:52:26</td>\n",
       "      <td>2016-06-14 19:52:26</td>\n",
       "      <td>NaN</td>\n",
       "      <td>1.0</td>\n",
       "    </tr>\n",
       "    <tr>\n",
       "      <th>3</th>\n",
       "      <td>2018-01-26</td>\n",
       "      <td>09:56:06</td>\n",
       "      <td>slides/object_oriented_programming</td>\n",
       "      <td>1</td>\n",
       "      <td>8.0</td>\n",
       "      <td>97.105.19.61</td>\n",
       "      <td>8.0</td>\n",
       "      <td>Hampton</td>\n",
       "      <td>#hampton</td>\n",
       "      <td>2015-09-22</td>\n",
       "      <td>2016-02-06</td>\n",
       "      <td>2016-06-14 19:52:26</td>\n",
       "      <td>2016-06-14 19:52:26</td>\n",
       "      <td>NaN</td>\n",
       "      <td>1.0</td>\n",
       "    </tr>\n",
       "    <tr>\n",
       "      <th>4</th>\n",
       "      <td>2018-01-26</td>\n",
       "      <td>09:56:24</td>\n",
       "      <td>javascript-i/conditionals</td>\n",
       "      <td>2</td>\n",
       "      <td>22.0</td>\n",
       "      <td>97.105.19.61</td>\n",
       "      <td>22.0</td>\n",
       "      <td>Teddy</td>\n",
       "      <td>#teddy</td>\n",
       "      <td>2018-01-08</td>\n",
       "      <td>2018-05-17</td>\n",
       "      <td>2018-01-08 13:59:10</td>\n",
       "      <td>2018-01-08 13:59:10</td>\n",
       "      <td>NaN</td>\n",
       "      <td>2.0</td>\n",
       "    </tr>\n",
       "  </tbody>\n",
       "</table>\n",
       "</div>"
      ],
      "text/plain": [
       "         date      time                                 path  user_id  \\\n",
       "0  2018-01-26  09:55:03                                    /        1   \n",
       "1  2018-01-26  09:56:02                              java-ii        1   \n",
       "2  2018-01-26  09:56:05  java-ii/object-oriented-programming        1   \n",
       "3  2018-01-26  09:56:06   slides/object_oriented_programming        1   \n",
       "4  2018-01-26  09:56:24            javascript-i/conditionals        2   \n",
       "\n",
       "   cohort_id            ip    id     name     slack  start_date    end_date  \\\n",
       "0        8.0  97.105.19.61   8.0  Hampton  #hampton  2015-09-22  2016-02-06   \n",
       "1        8.0  97.105.19.61   8.0  Hampton  #hampton  2015-09-22  2016-02-06   \n",
       "2        8.0  97.105.19.61   8.0  Hampton  #hampton  2015-09-22  2016-02-06   \n",
       "3        8.0  97.105.19.61   8.0  Hampton  #hampton  2015-09-22  2016-02-06   \n",
       "4       22.0  97.105.19.61  22.0    Teddy    #teddy  2018-01-08  2018-05-17   \n",
       "\n",
       "            created_at           updated_at  deleted_at  program_id  \n",
       "0  2016-06-14 19:52:26  2016-06-14 19:52:26         NaN         1.0  \n",
       "1  2016-06-14 19:52:26  2016-06-14 19:52:26         NaN         1.0  \n",
       "2  2016-06-14 19:52:26  2016-06-14 19:52:26         NaN         1.0  \n",
       "3  2016-06-14 19:52:26  2016-06-14 19:52:26         NaN         1.0  \n",
       "4  2018-01-08 13:59:10  2018-01-08 13:59:10         NaN         2.0  "
      ]
     },
     "execution_count": 4,
     "metadata": {},
     "output_type": "execute_result"
    }
   ],
   "source": [
    "#Acquire\n",
    "df = get_db_log_data()\n",
    "df.head(5)"
   ]
  },
  {
   "cell_type": "code",
   "execution_count": 13,
   "id": "a61e2419",
   "metadata": {},
   "outputs": [
    {
     "ename": "KeyError",
     "evalue": "\"None of ['date'] are in the columns\"",
     "output_type": "error",
     "traceback": [
      "\u001b[0;31m---------------------------------------------------------------------------\u001b[0m",
      "\u001b[0;31mKeyError\u001b[0m                                  Traceback (most recent call last)",
      "\u001b[0;32m/var/folders/6m/5f3p8xk954n_z611nvzksq440000gn/T/ipykernel_39509/2627070563.py\u001b[0m in \u001b[0;36m<module>\u001b[0;34m\u001b[0m\n\u001b[1;32m      1\u001b[0m \u001b[0;31m#prepare\u001b[0m\u001b[0;34m\u001b[0m\u001b[0;34m\u001b[0m\u001b[0m\n\u001b[0;32m----> 2\u001b[0;31m \u001b[0mcohort_df\u001b[0m \u001b[0;34m=\u001b[0m \u001b[0mwrangle_df\u001b[0m\u001b[0;34m(\u001b[0m\u001b[0mdf\u001b[0m\u001b[0;34m)\u001b[0m\u001b[0;34m\u001b[0m\u001b[0;34m\u001b[0m\u001b[0m\n\u001b[0m\u001b[1;32m      3\u001b[0m \u001b[0mcohort_df\u001b[0m\u001b[0;34m.\u001b[0m\u001b[0mhead\u001b[0m\u001b[0;34m(\u001b[0m\u001b[0;36m5\u001b[0m\u001b[0;34m)\u001b[0m\u001b[0;34m\u001b[0m\u001b[0;34m\u001b[0m\u001b[0m\n",
      "\u001b[0;32m~/codeup-data-science/anomaly_detection_project/wrangle.py\u001b[0m in \u001b[0;36mwrangle_df\u001b[0;34m(df)\u001b[0m\n\u001b[1;32m      1\u001b[0m \u001b[0;32mimport\u001b[0m \u001b[0mpandas\u001b[0m \u001b[0;32mas\u001b[0m \u001b[0mpd\u001b[0m\u001b[0;34m\u001b[0m\u001b[0;34m\u001b[0m\u001b[0m\n\u001b[1;32m      2\u001b[0m \u001b[0;32mdef\u001b[0m \u001b[0mwrangle_df\u001b[0m\u001b[0;34m(\u001b[0m\u001b[0mdf\u001b[0m\u001b[0;34m)\u001b[0m\u001b[0;34m:\u001b[0m\u001b[0;34m\u001b[0m\u001b[0;34m\u001b[0m\u001b[0m\n\u001b[0;32m----> 3\u001b[0;31m     \u001b[0mdf\u001b[0m\u001b[0;34m.\u001b[0m\u001b[0mset_index\u001b[0m\u001b[0;34m(\u001b[0m\u001b[0;34m'date'\u001b[0m\u001b[0;34m,\u001b[0m \u001b[0minplace\u001b[0m\u001b[0;34m=\u001b[0m\u001b[0;32mTrue\u001b[0m\u001b[0;34m)\u001b[0m\u001b[0;34m\u001b[0m\u001b[0;34m\u001b[0m\u001b[0m\n\u001b[0m\u001b[1;32m      4\u001b[0m     \u001b[0mdf\u001b[0m\u001b[0;34m.\u001b[0m\u001b[0mprogram_id\u001b[0m \u001b[0;34m=\u001b[0m \u001b[0mdf\u001b[0m\u001b[0;34m.\u001b[0m\u001b[0mprogram_id\u001b[0m\u001b[0;34m.\u001b[0m\u001b[0mmap\u001b[0m\u001b[0;34m(\u001b[0m\u001b[0;34m{\u001b[0m\u001b[0;36m1.0\u001b[0m\u001b[0;34m:\u001b[0m\u001b[0;34m'full_stack_php'\u001b[0m\u001b[0;34m,\u001b[0m \u001b[0;36m2.0\u001b[0m\u001b[0;34m:\u001b[0m\u001b[0;34m'full_stack_java'\u001b[0m\u001b[0;34m,\u001b[0m \u001b[0;36m3.0\u001b[0m\u001b[0;34m:\u001b[0m\u001b[0;34m'data_science'\u001b[0m\u001b[0;34m,\u001b[0m \u001b[0;36m4.0\u001b[0m\u001b[0;34m:\u001b[0m\u001b[0;34m'front_end_programming'\u001b[0m\u001b[0;34m}\u001b[0m\u001b[0;34m)\u001b[0m\u001b[0;34m\u001b[0m\u001b[0;34m\u001b[0m\u001b[0m\n\u001b[1;32m      5\u001b[0m     \u001b[0;31m## drop\u001b[0m\u001b[0;34m\u001b[0m\u001b[0;34m\u001b[0m\u001b[0m\n",
      "\u001b[0;32m/opt/homebrew/anaconda3/lib/python3.9/site-packages/pandas/util/_decorators.py\u001b[0m in \u001b[0;36mwrapper\u001b[0;34m(*args, **kwargs)\u001b[0m\n\u001b[1;32m    309\u001b[0m                     \u001b[0mstacklevel\u001b[0m\u001b[0;34m=\u001b[0m\u001b[0mstacklevel\u001b[0m\u001b[0;34m,\u001b[0m\u001b[0;34m\u001b[0m\u001b[0;34m\u001b[0m\u001b[0m\n\u001b[1;32m    310\u001b[0m                 )\n\u001b[0;32m--> 311\u001b[0;31m             \u001b[0;32mreturn\u001b[0m \u001b[0mfunc\u001b[0m\u001b[0;34m(\u001b[0m\u001b[0;34m*\u001b[0m\u001b[0margs\u001b[0m\u001b[0;34m,\u001b[0m \u001b[0;34m**\u001b[0m\u001b[0mkwargs\u001b[0m\u001b[0;34m)\u001b[0m\u001b[0;34m\u001b[0m\u001b[0;34m\u001b[0m\u001b[0m\n\u001b[0m\u001b[1;32m    312\u001b[0m \u001b[0;34m\u001b[0m\u001b[0m\n\u001b[1;32m    313\u001b[0m         \u001b[0;32mreturn\u001b[0m \u001b[0mwrapper\u001b[0m\u001b[0;34m\u001b[0m\u001b[0;34m\u001b[0m\u001b[0m\n",
      "\u001b[0;32m/opt/homebrew/anaconda3/lib/python3.9/site-packages/pandas/core/frame.py\u001b[0m in \u001b[0;36mset_index\u001b[0;34m(self, keys, drop, append, inplace, verify_integrity)\u001b[0m\n\u001b[1;32m   5449\u001b[0m \u001b[0;34m\u001b[0m\u001b[0m\n\u001b[1;32m   5450\u001b[0m         \u001b[0;32mif\u001b[0m \u001b[0mmissing\u001b[0m\u001b[0;34m:\u001b[0m\u001b[0;34m\u001b[0m\u001b[0;34m\u001b[0m\u001b[0m\n\u001b[0;32m-> 5451\u001b[0;31m             \u001b[0;32mraise\u001b[0m \u001b[0mKeyError\u001b[0m\u001b[0;34m(\u001b[0m\u001b[0;34mf\"None of {missing} are in the columns\"\u001b[0m\u001b[0;34m)\u001b[0m\u001b[0;34m\u001b[0m\u001b[0;34m\u001b[0m\u001b[0m\n\u001b[0m\u001b[1;32m   5452\u001b[0m \u001b[0;34m\u001b[0m\u001b[0m\n\u001b[1;32m   5453\u001b[0m         \u001b[0;32mif\u001b[0m \u001b[0minplace\u001b[0m\u001b[0;34m:\u001b[0m\u001b[0;34m\u001b[0m\u001b[0;34m\u001b[0m\u001b[0m\n",
      "\u001b[0;31mKeyError\u001b[0m: \"None of ['date'] are in the columns\""
     ]
    }
   ],
   "source": [
    "#prepare\n",
    "cohort_df = wrangle_df(df)\n",
    "cohort_df.head(5)"
   ]
  },
  {
   "cell_type": "markdown",
   "id": "bb70947d",
   "metadata": {},
   "source": [
    "5. At some point in 2019, the ability for students and alumni to access both curriculums (web dev to ds, ds to web dev) should have been shut off. Do you see any evidence of that happening? Did it happen before?"
   ]
  },
  {
   "cell_type": "code",
   "execution_count": null,
   "id": "2d4d8a2f",
   "metadata": {},
   "outputs": [],
   "source": []
  },
  {
   "cell_type": "markdown",
   "id": "a2401d86",
   "metadata": {},
   "source": [
    "6. What topics are grads continuing to reference after graduation and into their jobs (for each program)?"
   ]
  },
  {
   "cell_type": "code",
   "execution_count": 9,
   "id": "69817e68",
   "metadata": {},
   "outputs": [
    {
     "data": {
      "text/plain": [
       "199834"
      ]
     },
     "execution_count": 9,
     "metadata": {},
     "output_type": "execute_result"
    }
   ],
   "source": [
    "df[df.date > df.end_date].shape[0]"
   ]
  },
  {
   "cell_type": "markdown",
   "id": "7a689afc",
   "metadata": {},
   "source": [
    "7. Which lessons are least accessed?"
   ]
  },
  {
   "cell_type": "code",
   "execution_count": null,
   "id": "0ba6b317",
   "metadata": {},
   "outputs": [],
   "source": []
  },
  {
   "cell_type": "markdown",
   "id": "8b6783d8",
   "metadata": {},
   "source": [
    "8. Anything else I should be aware of?"
   ]
  },
  {
   "cell_type": "code",
   "execution_count": null,
   "id": "10a8f896",
   "metadata": {},
   "outputs": [],
   "source": []
  }
 ],
 "metadata": {
  "kernelspec": {
   "display_name": "Python 3 (ipykernel)",
   "language": "python",
   "name": "python3"
  },
  "language_info": {
   "codemirror_mode": {
    "name": "ipython",
    "version": 3
   },
   "file_extension": ".py",
   "mimetype": "text/x-python",
   "name": "python",
   "nbconvert_exporter": "python",
   "pygments_lexer": "ipython3",
   "version": "3.9.7"
  }
 },
 "nbformat": 4,
 "nbformat_minor": 5
}
