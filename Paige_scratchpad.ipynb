{
 "cells": [
  {
   "cell_type": "code",
   "execution_count": 1,
   "id": "2a2e4d73",
   "metadata": {},
   "outputs": [],
   "source": [
    "import numpy as np\n",
    "import pandas as pd\n",
    "import math\n",
    "from sklearn import metrics\n",
    "\n",
    "\n",
    "import env\n",
    "from acquire import get_db_log_data\n",
    "from wrangle "
   ]
  },
  {
   "cell_type": "code",
   "execution_count": 4,
   "id": "feed9655",
   "metadata": {},
   "outputs": [
    {
     "data": {
      "text/html": [
       "<div>\n",
       "<style scoped>\n",
       "    .dataframe tbody tr th:only-of-type {\n",
       "        vertical-align: middle;\n",
       "    }\n",
       "\n",
       "    .dataframe tbody tr th {\n",
       "        vertical-align: top;\n",
       "    }\n",
       "\n",
       "    .dataframe thead th {\n",
       "        text-align: right;\n",
       "    }\n",
       "</style>\n",
       "<table border=\"1\" class=\"dataframe\">\n",
       "  <thead>\n",
       "    <tr style=\"text-align: right;\">\n",
       "      <th></th>\n",
       "      <th>date</th>\n",
       "      <th>time</th>\n",
       "      <th>path</th>\n",
       "      <th>user_id</th>\n",
       "      <th>cohort_id</th>\n",
       "      <th>ip</th>\n",
       "      <th>id</th>\n",
       "      <th>name</th>\n",
       "      <th>slack</th>\n",
       "      <th>start_date</th>\n",
       "      <th>end_date</th>\n",
       "      <th>created_at</th>\n",
       "      <th>updated_at</th>\n",
       "      <th>deleted_at</th>\n",
       "      <th>program_id</th>\n",
       "    </tr>\n",
       "  </thead>\n",
       "  <tbody>\n",
       "    <tr>\n",
       "      <th>0</th>\n",
       "      <td>2018-01-26</td>\n",
       "      <td>09:55:03</td>\n",
       "      <td>/</td>\n",
       "      <td>1</td>\n",
       "      <td>8.0</td>\n",
       "      <td>97.105.19.61</td>\n",
       "      <td>8.0</td>\n",
       "      <td>Hampton</td>\n",
       "      <td>#hampton</td>\n",
       "      <td>2015-09-22</td>\n",
       "      <td>2016-02-06</td>\n",
       "      <td>2016-06-14 19:52:26</td>\n",
       "      <td>2016-06-14 19:52:26</td>\n",
       "      <td>NaN</td>\n",
       "      <td>1.0</td>\n",
       "    </tr>\n",
       "    <tr>\n",
       "      <th>1</th>\n",
       "      <td>2018-01-26</td>\n",
       "      <td>09:56:02</td>\n",
       "      <td>java-ii</td>\n",
       "      <td>1</td>\n",
       "      <td>8.0</td>\n",
       "      <td>97.105.19.61</td>\n",
       "      <td>8.0</td>\n",
       "      <td>Hampton</td>\n",
       "      <td>#hampton</td>\n",
       "      <td>2015-09-22</td>\n",
       "      <td>2016-02-06</td>\n",
       "      <td>2016-06-14 19:52:26</td>\n",
       "      <td>2016-06-14 19:52:26</td>\n",
       "      <td>NaN</td>\n",
       "      <td>1.0</td>\n",
       "    </tr>\n",
       "    <tr>\n",
       "      <th>2</th>\n",
       "      <td>2018-01-26</td>\n",
       "      <td>09:56:05</td>\n",
       "      <td>java-ii/object-oriented-programming</td>\n",
       "      <td>1</td>\n",
       "      <td>8.0</td>\n",
       "      <td>97.105.19.61</td>\n",
       "      <td>8.0</td>\n",
       "      <td>Hampton</td>\n",
       "      <td>#hampton</td>\n",
       "      <td>2015-09-22</td>\n",
       "      <td>2016-02-06</td>\n",
       "      <td>2016-06-14 19:52:26</td>\n",
       "      <td>2016-06-14 19:52:26</td>\n",
       "      <td>NaN</td>\n",
       "      <td>1.0</td>\n",
       "    </tr>\n",
       "    <tr>\n",
       "      <th>3</th>\n",
       "      <td>2018-01-26</td>\n",
       "      <td>09:56:06</td>\n",
       "      <td>slides/object_oriented_programming</td>\n",
       "      <td>1</td>\n",
       "      <td>8.0</td>\n",
       "      <td>97.105.19.61</td>\n",
       "      <td>8.0</td>\n",
       "      <td>Hampton</td>\n",
       "      <td>#hampton</td>\n",
       "      <td>2015-09-22</td>\n",
       "      <td>2016-02-06</td>\n",
       "      <td>2016-06-14 19:52:26</td>\n",
       "      <td>2016-06-14 19:52:26</td>\n",
       "      <td>NaN</td>\n",
       "      <td>1.0</td>\n",
       "    </tr>\n",
       "    <tr>\n",
       "      <th>4</th>\n",
       "      <td>2018-01-26</td>\n",
       "      <td>09:56:24</td>\n",
       "      <td>javascript-i/conditionals</td>\n",
       "      <td>2</td>\n",
       "      <td>22.0</td>\n",
       "      <td>97.105.19.61</td>\n",
       "      <td>22.0</td>\n",
       "      <td>Teddy</td>\n",
       "      <td>#teddy</td>\n",
       "      <td>2018-01-08</td>\n",
       "      <td>2018-05-17</td>\n",
       "      <td>2018-01-08 13:59:10</td>\n",
       "      <td>2018-01-08 13:59:10</td>\n",
       "      <td>NaN</td>\n",
       "      <td>2.0</td>\n",
       "    </tr>\n",
       "  </tbody>\n",
       "</table>\n",
       "</div>"
      ],
      "text/plain": [
       "         date      time                                 path  user_id  \\\n",
       "0  2018-01-26  09:55:03                                    /        1   \n",
       "1  2018-01-26  09:56:02                              java-ii        1   \n",
       "2  2018-01-26  09:56:05  java-ii/object-oriented-programming        1   \n",
       "3  2018-01-26  09:56:06   slides/object_oriented_programming        1   \n",
       "4  2018-01-26  09:56:24            javascript-i/conditionals        2   \n",
       "\n",
       "   cohort_id            ip    id     name     slack  start_date    end_date  \\\n",
       "0        8.0  97.105.19.61   8.0  Hampton  #hampton  2015-09-22  2016-02-06   \n",
       "1        8.0  97.105.19.61   8.0  Hampton  #hampton  2015-09-22  2016-02-06   \n",
       "2        8.0  97.105.19.61   8.0  Hampton  #hampton  2015-09-22  2016-02-06   \n",
       "3        8.0  97.105.19.61   8.0  Hampton  #hampton  2015-09-22  2016-02-06   \n",
       "4       22.0  97.105.19.61  22.0    Teddy    #teddy  2018-01-08  2018-05-17   \n",
       "\n",
       "            created_at           updated_at  deleted_at  program_id  \n",
       "0  2016-06-14 19:52:26  2016-06-14 19:52:26         NaN         1.0  \n",
       "1  2016-06-14 19:52:26  2016-06-14 19:52:26         NaN         1.0  \n",
       "2  2016-06-14 19:52:26  2016-06-14 19:52:26         NaN         1.0  \n",
       "3  2016-06-14 19:52:26  2016-06-14 19:52:26         NaN         1.0  \n",
       "4  2018-01-08 13:59:10  2018-01-08 13:59:10         NaN         2.0  "
      ]
     },
     "execution_count": 4,
     "metadata": {},
     "output_type": "execute_result"
    }
   ],
   "source": [
    "df = get_db_log_data()\n",
    "df.head(5)"
   ]
  },
  {
   "cell_type": "markdown",
   "id": "bb70947d",
   "metadata": {},
   "source": [
    "5. At some point in 2019, the ability for students and alumni to access both curriculums (web dev to ds, ds to web dev) should have been shut off. Do you see any evidence of that happening? Did it happen before?"
   ]
  },
  {
   "cell_type": "code",
   "execution_count": null,
   "id": "2d4d8a2f",
   "metadata": {},
   "outputs": [],
   "source": []
  },
  {
   "cell_type": "markdown",
   "id": "a2401d86",
   "metadata": {},
   "source": [
    "6. What topics are grads continuing to reference after graduation and into their jobs (for each program)?"
   ]
  },
  {
   "cell_type": "code",
   "execution_count": 9,
   "id": "69817e68",
   "metadata": {},
   "outputs": [
    {
     "data": {
      "text/plain": [
       "199834"
      ]
     },
     "execution_count": 9,
     "metadata": {},
     "output_type": "execute_result"
    }
   ],
   "source": [
    "df[df.date > df.end_date].shape[0]"
   ]
  },
  {
   "cell_type": "markdown",
   "id": "7a689afc",
   "metadata": {},
   "source": [
    "7. Which lessons are least accessed?"
   ]
  },
  {
   "cell_type": "code",
   "execution_count": null,
   "id": "0ba6b317",
   "metadata": {},
   "outputs": [],
   "source": []
  },
  {
   "cell_type": "markdown",
   "id": "8b6783d8",
   "metadata": {},
   "source": [
    "8. Anything else I should be aware of?"
   ]
  },
  {
   "cell_type": "code",
   "execution_count": null,
   "id": "10a8f896",
   "metadata": {},
   "outputs": [],
   "source": []
  }
 ],
 "metadata": {
  "kernelspec": {
   "display_name": "Python 3 (ipykernel)",
   "language": "python",
   "name": "python3"
  },
  "language_info": {
   "codemirror_mode": {
    "name": "ipython",
    "version": 3
   },
   "file_extension": ".py",
   "mimetype": "text/x-python",
   "name": "python",
   "nbconvert_exporter": "python",
   "pygments_lexer": "ipython3",
   "version": "3.9.7"
  }
 },
 "nbformat": 4,
 "nbformat_minor": 5
}
